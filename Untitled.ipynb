{
 "cells": [
  {
   "cell_type": "code",
   "execution_count": 1,
   "id": "00ce789e",
   "metadata": {},
   "outputs": [
    {
     "name": "stdout",
     "output_type": "stream",
     "text": [
      "Requirement already satisfied: qmpy-rester in ./venv/lib/python3.10/site-packages (0.2.0)\n",
      "Requirement already satisfied: requests in ./venv/lib/python3.10/site-packages (from qmpy-rester) (2.28.2)\n",
      "Requirement already satisfied: urllib3<1.27,>=1.21.1 in ./venv/lib/python3.10/site-packages (from requests->qmpy-rester) (1.26.14)\n",
      "Requirement already satisfied: idna<4,>=2.5 in ./venv/lib/python3.10/site-packages (from requests->qmpy-rester) (3.4)\n",
      "Requirement already satisfied: charset-normalizer<4,>=2 in ./venv/lib/python3.10/site-packages (from requests->qmpy-rester) (3.0.1)\n",
      "Requirement already satisfied: certifi>=2017.4.17 in ./venv/lib/python3.10/site-packages (from requests->qmpy-rester) (2022.12.7)\n",
      "Note: you may need to restart the kernel to use updated packages.\n"
     ]
    }
   ],
   "source": [
    "pip install qmpy-rester"
   ]
  },
  {
   "cell_type": "code",
   "execution_count": 23,
   "id": "36daf600",
   "metadata": {},
   "outputs": [
    {
     "name": "stdout",
     "output_type": "stream",
     "text": [
      "Your filters are:\n",
      "    limit=10000\n",
      "    fields=name,delta_e,band_gap, \n",
      "    filter=element_set=O AND ntypes=3\n",
      "Proceed? [Y/n]:y\n"
     ]
    }
   ],
   "source": [
    "import qmpy_rester as qr\n",
    "with qr.QMPYRester() as q:\n",
    "    kwargs = {\n",
    "        'element_set': 'O',      \n",
    "        'ntypes': '3',\n",
    "        'limit': 10000,\n",
    "        'fields': 'name,delta_e,band_gap, '\n",
    "        }\n",
    "\n",
    "list_of_data = q.get_oqmd_phases(**kwargs)"
   ]
  },
  {
   "cell_type": "code",
   "execution_count": 24,
   "id": "dc7d1fb2",
   "metadata": {},
   "outputs": [
    {
     "data": {
      "text/plain": [
       "'None'"
      ]
     },
     "execution_count": 24,
     "metadata": {},
     "output_type": "execute_result"
    }
   ],
   "source": [
    "str(list_of_data)[:10000]\n",
    "#print(list_of_data)\n"
   ]
  },
  {
   "cell_type": "code",
   "execution_count": null,
   "id": "a7b3e3f0",
   "metadata": {},
   "outputs": [],
   "source": []
  }
 ],
 "metadata": {
  "kernelspec": {
   "display_name": "Python 3 (ipykernel)",
   "language": "python",
   "name": "python3"
  },
  "language_info": {
   "codemirror_mode": {
    "name": "ipython",
    "version": 3
   },
   "file_extension": ".py",
   "mimetype": "text/x-python",
   "name": "python",
   "nbconvert_exporter": "python",
   "pygments_lexer": "ipython3",
   "version": "3.10.6"
  }
 },
 "nbformat": 4,
 "nbformat_minor": 5
}
