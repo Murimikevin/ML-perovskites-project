{
 "cells": [
  {
   "cell_type": "code",
   "execution_count": 1,
   "id": "e3bee138",
   "metadata": {},
   "outputs": [
    {
     "name": "stdout",
     "output_type": "stream",
     "text": [
      "Requirement already satisfied: requests in ./venv/lib/python3.10/site-packages (2.28.2)\n",
      "Requirement already satisfied: idna<4,>=2.5 in ./venv/lib/python3.10/site-packages (from requests) (3.4)\n",
      "Requirement already satisfied: certifi>=2017.4.17 in ./venv/lib/python3.10/site-packages (from requests) (2022.12.7)\n",
      "Requirement already satisfied: charset-normalizer<4,>=2 in ./venv/lib/python3.10/site-packages (from requests) (3.0.1)\n",
      "Requirement already satisfied: urllib3<1.27,>=1.21.1 in ./venv/lib/python3.10/site-packages (from requests) (1.26.14)\n",
      "Requirement already satisfied: qmpy-rester in ./venv/lib/python3.10/site-packages (0.2.0)\n",
      "Requirement already satisfied: requests in ./venv/lib/python3.10/site-packages (from qmpy-rester) (2.28.2)\n",
      "Requirement already satisfied: idna<4,>=2.5 in ./venv/lib/python3.10/site-packages (from requests->qmpy-rester) (3.4)\n",
      "Requirement already satisfied: certifi>=2017.4.17 in ./venv/lib/python3.10/site-packages (from requests->qmpy-rester) (2022.12.7)\n",
      "Requirement already satisfied: urllib3<1.27,>=1.21.1 in ./venv/lib/python3.10/site-packages (from requests->qmpy-rester) (1.26.14)\n",
      "Requirement already satisfied: charset-normalizer<4,>=2 in ./venv/lib/python3.10/site-packages (from requests->qmpy-rester) (3.0.1)\n"
     ]
    }
   ],
   "source": [
    "!pip install requests\n",
    "!pip install qmpy-rester"
   ]
  },
  {
   "cell_type": "code",
   "execution_count": 2,
   "id": "c95b0647",
   "metadata": {},
   "outputs": [],
   "source": [
    "import requests\n",
    "import json\n",
    "import qmpy_rester as qr\n",
    "from concurrent.futures import ThreadPoolExecutor\n",
    "import math"
   ]
  },
  {
   "cell_type": "code",
   "execution_count": 3,
   "id": "5e53cbc7",
   "metadata": {},
   "outputs": [],
   "source": [
    "BASE_URL = \"http://oqmd.org/oqmdapi/formationenergy?fields=name,entry_id,spacegroup,ntypes,band_gap,delta_e&limit=200&filter=element_set=O AND ntypes=3\"\n",
    "materials_data = []"
   ]
  },
  {
   "cell_type": "code",
   "execution_count": 4,
   "id": "9f23d90d",
   "metadata": {},
   "outputs": [
    {
     "ename": "NameError",
     "evalue": "name '_next' is not defined",
     "output_type": "error",
     "traceback": [
      "\u001b[0;31m---------------------------------------------------------------------------\u001b[0m",
      "\u001b[0;31mNameError\u001b[0m                                 Traceback (most recent call last)",
      "Cell \u001b[0;32mIn[4], line 3\u001b[0m\n\u001b[1;32m      1\u001b[0m \u001b[38;5;28;01mwhile\u001b[39;00m \u001b[38;5;28;01mTrue\u001b[39;00m:\n\u001b[0;32m----> 3\u001b[0m     \u001b[38;5;28mprint\u001b[39m(\u001b[38;5;124mf\u001b[39m\u001b[38;5;124m\"\u001b[39m\u001b[38;5;124mGetting data from URL: \u001b[39m\u001b[38;5;132;01m{\u001b[39;00m\u001b[43m_next\u001b[49m\u001b[38;5;132;01m}\u001b[39;00m\u001b[38;5;124m\"\u001b[39m)\n\u001b[1;32m      5\u001b[0m     r \u001b[38;5;241m=\u001b[39m requests\u001b[38;5;241m.\u001b[39mget(BASE_URL)\n\u001b[1;32m      6\u001b[0m     _next \u001b[38;5;241m=\u001b[39m r\u001b[38;5;241m.\u001b[39mjson()\u001b[38;5;241m.\u001b[39mget(\u001b[38;5;124m'\u001b[39m\u001b[38;5;124mlinks\u001b[39m\u001b[38;5;124m'\u001b[39m)\u001b[38;5;241m.\u001b[39mget(\u001b[38;5;124m'\u001b[39m\u001b[38;5;124mnext\u001b[39m\u001b[38;5;124m'\u001b[39m)\n",
      "\u001b[0;31mNameError\u001b[0m: name '_next' is not defined"
     ]
    }
   ],
   "source": [
    "\n",
    "while True:\n",
    "    \n",
    "    print(f\"Getting data from URL: {_next}\")\n",
    "    \n",
    "    r = requests.get(BASE_URL)\n",
    "    _next = r.json().get('links').get('next')\n",
    "    if _next is None:\n",
    "        break\n",
    "    \n",
    "    data_list = r.json().get('data')\n",
    "    materials_data += data_list\n",
    "    BASE_URL = _next\n",
    "    \n",
    "# r.json()\n",
    "# data = r.json().get('data')\n",
    "print(len(materials_data))\n",
    "# data\n"
   ]
  },
  {
   "cell_type": "code",
   "execution_count": 22,
   "id": "8f010542",
   "metadata": {},
   "outputs": [
    {
     "data": {
      "text/plain": [
       "4200"
      ]
     },
     "execution_count": 22,
     "metadata": {},
     "output_type": "execute_result"
    }
   ],
   "source": [
    "len(materials_data)"
   ]
  },
  {
   "cell_type": "code",
   "execution_count": 5,
   "id": "bac2f5f3",
   "metadata": {},
   "outputs": [
    {
     "name": "stdout",
     "output_type": "stream",
     "text": [
      "Your filters are:\n",
      "    limit=10000\n",
      "    fields=name,delta_e,band_gap\n",
      "    filter=element_set=O AND ntypes=3\n",
      "Proceed? [Y/n]:y\n"
     ]
    }
   ],
   "source": [
    "## Return list of data\n",
    "with qr.QMPYRester() as q:\n",
    "    kwargs = {\n",
    "        'element_set': 'O',      \n",
    "        'ntypes': '3',\n",
    "        'limit': 10,\n",
    "        'fields': 'name,delta_e,band_gap'\n",
    "        }\n",
    "\n",
    "list_of_data = q.get_oqmd_phases(**kwargs)"
   ]
  },
  {
   "cell_type": "code",
   "execution_count": 6,
   "id": "a65541da",
   "metadata": {},
   "outputs": [
    {
     "data": {
      "text/plain": [
       "'None'"
      ]
     },
     "execution_count": 6,
     "metadata": {},
     "output_type": "execute_result"
    }
   ],
   "source": [
    "str(list_of_data)[:2000]"
   ]
  },
  {
   "cell_type": "code",
   "execution_count": 7,
   "id": "653f0d62",
   "metadata": {},
   "outputs": [
    {
     "name": "stdout",
     "output_type": "stream",
     "text": [
      "Getting data from URL: http://oqmd.org/oqmdapi/formationenergy?fields=materials_data%name%2Centry_id%2Cspacegroup%2Cntypes%2Cband_gap%2Cdelta_e&filter=element_set%3DO+AND+ntypes%3D3&limit=500&offset=0\n",
      "Getting data from URL: http://oqmd.org/oqmdapi/formationenergy?fields=materials_data%name%2Centry_id%2Cspacegroup%2Cntypes%2Cband_gap%2Cdelta_e&filter=element_set%3DO+AND+ntypes%3D3&limit=500&offset=500\n",
      "Getting data from URL: http://oqmd.org/oqmdapi/formationenergy?fields=materials_data%name%2Centry_id%2Cspacegroup%2Cntypes%2Cband_gap%2Cdelta_e&filter=element_set%3DO+AND+ntypes%3D3&limit=500&offset=1000\n",
      "Getting data from URL: http://oqmd.org/oqmdapi/formationenergy?fields=materials_data%name%2Centry_id%2Cspacegroup%2Cntypes%2Cband_gap%2Cdelta_e&filter=element_set%3DO+AND+ntypes%3D3&limit=500&offset=1500\n",
      "Getting data from URL: http://oqmd.org/oqmdapi/formationenergy?fields=materials_data%name%2Centry_id%2Cspacegroup%2Cntypes%2Cband_gap%2Cdelta_e&filter=element_set%3DO+AND+ntypes%3D3&limit=500&offset=2000\n",
      "Getting data from URL: http://oqmd.org/oqmdapi/formationenergy?fields=materials_data%name%2Centry_id%2Cspacegroup%2Cntypes%2Cband_gap%2Cdelta_e&filter=element_set%3DO+AND+ntypes%3D3&limit=500&offset=2500\n",
      "Getting data from URL: http://oqmd.org/oqmdapi/formationenergy?fields=materials_data%name%2Centry_id%2Cspacegroup%2Cntypes%2Cband_gap%2Cdelta_e&filter=element_set%3DO+AND+ntypes%3D3&limit=500&offset=3000\n",
      "Getting data from URL: http://oqmd.org/oqmdapi/formationenergy?fields=materials_data%name%2Centry_id%2Cspacegroup%2Cntypes%2Cband_gap%2Cdelta_e&filter=element_set%3DO+AND+ntypes%3D3&limit=500&offset=3500\n",
      "Getting data from URL: http://oqmd.org/oqmdapi/formationenergy?fields=materials_data%name%2Centry_id%2Cspacegroup%2Cntypes%2Cband_gap%2Cdelta_e&filter=element_set%3DO+AND+ntypes%3D3&limit=500&offset=4000\n",
      "Getting data from URL: http://oqmd.org/oqmdapi/formationenergy?fields=materials_data%name%2Centry_id%2Cspacegroup%2Cntypes%2Cband_gap%2Cdelta_e&filter=element_set%3DO+AND+ntypes%3D3&limit=500&offset=4500\n",
      "0\n"
     ]
    }
   ],
   "source": [
    "def get_data(url):\n",
    "    \n",
    "    global materials_data\n",
    "    \n",
    "    print(f\"Getting data from URL: {url}\")\n",
    "    \n",
    "    r = requests.get(url)\n",
    "    data_list = r.json().get('data')\n",
    "    materials_data += data_list\n",
    "    \n",
    "    print(f\"Done getting URL: {url}\")\n",
    "\n",
    "num_mate = 51051\n",
    "limit_p_page = 500\n",
    "offsets = math.ceil(num_mate / limit_p_page)\n",
    "base_url = f\"http://oqmd.org/oqmdapi/formationenergy?fields=materials_data%name%2Centry_id%2Cspacegroup%2Cntypes%2Cband_gap%2Cdelta_e&filter=element_set%3DO+AND+ntypes%3D3&limit={limit_p_page}&offset=[%OFFSET%]\"\n",
    "\n",
    "links = []\n",
    "## Create links to visit\n",
    "for i in range(offsets):\n",
    "    url = base_url.replace('[%OFFSET%]', str(i*limit_p_page))\n",
    "    links.append(url)\n",
    "\n",
    "## Create a threadpool to get the data\n",
    "with ThreadPoolExecutor(max_workers=4) as executor:\n",
    "    executor.map(get_data, links[:10])\n",
    "\n",
    "print(len(materials_data))"
   ]
  },
  {
   "cell_type": "code",
   "execution_count": 8,
   "id": "a877d9be",
   "metadata": {},
   "outputs": [
    {
     "data": {
      "text/plain": [
       "[]"
      ]
     },
     "execution_count": 8,
     "metadata": {},
     "output_type": "execute_result"
    }
   ],
   "source": [
    "materials_data"
   ]
  },
  {
   "cell_type": "code",
   "execution_count": 9,
   "id": "98f8f5e3",
   "metadata": {},
   "outputs": [
    {
     "data": {
      "text/plain": [
       "[]"
      ]
     },
     "execution_count": 9,
     "metadata": {},
     "output_type": "execute_result"
    }
   ],
   "source": [
    "[i for i in materials_data if i['delta_e'] is None]"
   ]
  },
  {
   "cell_type": "code",
   "execution_count": null,
   "id": "68edc888",
   "metadata": {},
   "outputs": [],
   "source": []
  }
 ],
 "metadata": {
  "kernelspec": {
   "display_name": "Python 3 (ipykernel)",
   "language": "python",
   "name": "python3"
  },
  "language_info": {
   "codemirror_mode": {
    "name": "ipython",
    "version": 3
   },
   "file_extension": ".py",
   "mimetype": "text/x-python",
   "name": "python",
   "nbconvert_exporter": "python",
   "pygments_lexer": "ipython3",
   "version": "3.10.6"
  }
 },
 "nbformat": 4,
 "nbformat_minor": 5
}
