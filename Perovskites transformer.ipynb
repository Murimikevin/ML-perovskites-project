{
 "cells": [
  {
   "cell_type": "code",
   "execution_count": null,
   "id": "aa846519",
   "metadata": {},
   "outputs": [],
   "source": [
    "%pip install requests\n",
    "%pip install pandas\n",
    "%pip install mp-api\n",
    "%pip install requests-html\n",
    "%pip install -U scikit-learn"
   ]
  },
  {
   "cell_type": "code",
   "execution_count": 4,
   "id": "78291c88",
   "metadata": {},
   "outputs": [],
   "source": [
    "import csv\n",
    "import json\n",
    "import os\n",
    "import pandas as pd\n",
    "from mp_api.client import MPRester\n",
    "from tqdm.notebook import tqdm\n",
    "from ast import literal_eval\n",
    "import math\n",
    "from concurrent.futures import ThreadPoolExecutor\n",
    "import requests\n",
    "from requests_html import HTMLSession\n",
    "import random\n",
    "\n",
    "import os\n",
    "import numpy as np\n",
    "import pandas as pd\n",
    "import torch"
   ]
  },
  {
   "cell_type": "code",
   "execution_count": 5,
   "id": "88a33cfa",
   "metadata": {},
   "outputs": [
    {
     "name": "stdout",
     "output_type": "stream",
     "text": [
      "/home/murimikelvin/ML-perovskites-project/Vacancyenergydata.csv\n"
     ]
    },
    {
     "name": "stderr",
     "output_type": "stream",
     "text": [
      "/home/murimikelvin/ML-perovskites-project/venv/lib/python3.10/site-packages/mp_api/client/mprester.py:146: UserWarning: mpcontribs-client not installed. Install the package to query MPContribs data, or construct pourbaix diagrams: 'pip install mpcontribs-client'\n",
      "  warnings.warn(\n"
     ]
    }
   ],
   "source": [
    "ROOT_DIR = os.path.abspath(\"\")\n",
    "DATA_DIR = os.path.join(ROOT_DIR, 'CrabNet/data/materials_data')\n",
    "TRAINING_CSV_FILE = os.path.join(ROOT_DIR, \"Vacancyenergydata.csv\")\n",
    "API_KEY = \"3XX6x9Nd3cKWf9Q4wpaio64CBHFp2uDq\"\n",
    "TRAINING_DATA = []\n",
    "mpr = MPRester(API_KEY)\n",
    "\n",
    "print(TRAINING_CSV_FILE)"
   ]
  },
  {
   "cell_type": "markdown",
   "id": "602bae37",
   "metadata": {},
   "source": [
    "## Step1:Collecting data."
   ]
  },
  {
   "cell_type": "markdown",
   "id": "8d3d591b",
   "metadata": {},
   "source": [
    "#### Load Training data."
   ]
  },
  {
   "cell_type": "code",
   "execution_count": 3,
   "id": "d7b7cda7",
   "metadata": {},
   "outputs": [
    {
     "name": "stdout",
     "output_type": "stream",
     "text": [
      "Index(['Chemical formula', 'A', 'B', 'In literature', 'Valence A', 'Valence B',\n",
      "       'Radius A [ang]', 'Radius B [ang]', 'Lowest distortion',\n",
      "       'Formation energy [eV/atom]', 'Stability [eV/atom]',\n",
      "       'Magnetic moment [mu_B]', 'Volume per atom [A^3/atom]', 'Band gap [eV]',\n",
      "       'a [ang]', 'b [ang]', 'c [ang]', 'alpha [deg]', 'beta [deg]',\n",
      "       'gamma [deg]', 'Vacancy energy [eV/O atom]'],\n",
      "      dtype='object')\n"
     ]
    },
    {
     "data": {
      "text/plain": [
       "[{'chem_formula': 'Ac2O3', 'e_ovac': '3.150'},\n",
       " {'chem_formula': 'AcAgO3', 'e_ovac': '0.817'},\n",
       " {'chem_formula': 'AcAlO3', 'e_ovac': '6.695'},\n",
       " {'chem_formula': 'AcAsO3', 'e_ovac': '3.634'},\n",
       " {'chem_formula': 'AcAuO3', 'e_ovac': '0.807'},\n",
       " {'chem_formula': 'AcBO3', 'e_ovac': '4.163'},\n",
       " {'chem_formula': 'AcBaO3', 'e_ovac': '-1.771'},\n",
       " {'chem_formula': 'AcBeO3', 'e_ovac': '-0.080'},\n",
       " {'chem_formula': 'AcBiO3', 'e_ovac': '2.653'},\n",
       " {'chem_formula': 'AcCaO3', 'e_ovac': '-1.025'}]"
      ]
     },
     "execution_count": 3,
     "metadata": {},
     "output_type": "execute_result"
    }
   ],
   "source": [
    "df = pd.read_csv(TRAINING_CSV_FILE)\n",
    "print(df.columns)\n",
    "df = df[['Chemical formula', 'Vacancy energy [eV/O atom]']]\n",
    "new_names = {\n",
    "    'Chemical formula': 'chem_formula',\n",
    "    'Vacancy energy [eV/O atom]': 'e_ovac'\n",
    "}\n",
    "df.rename(columns=new_names, inplace=True)\n",
    "df = df.to_dict(\"records\")\n",
    "df[:10]\n"
   ]
  },
  {
   "cell_type": "markdown",
   "id": "d4d082aa",
   "metadata": {},
   "source": [
    "#### Loading prediction data"
   ]
  },
  {
   "cell_type": "code",
   "execution_count": 36,
   "id": "b3b4ffe9",
   "metadata": {},
   "outputs": [
    {
     "name": "stdout",
     "output_type": "stream",
     "text": [
      "['__call__', '__class__', '__delattr__', '__dir__', '__doc__', '__eq__', '__format__', '__func__', '__ge__', '__get__', '__getattribute__', '__gt__', '__hash__', '__init__', '__init_subclass__', '__le__', '__lt__', '__ne__', '__new__', '__reduce__', '__reduce_ex__', '__repr__', '__self__', '__setattr__', '__sizeof__', '__str__', '__subclasshook__']\n"
     ]
    }
   ],
   "source": [
    "list_of_available_fields = mpr.summary.available_fields\n",
    "\n",
    "print(dir(mpr.summary.search))"
   ]
  },
  {
   "cell_type": "code",
   "execution_count": 8,
   "id": "f90d9287",
   "metadata": {
    "scrolled": false
   },
   "outputs": [
    {
     "name": "stderr",
     "output_type": "stream",
     "text": [
      "Retrieving SummaryDoc documents: 100%|████████████████████████████████████████████████████████████████████████| 81887/81887 [01:05<00:00, 1250.78it/s]\n"
     ]
    }
   ],
   "source": [
    "\n",
    "# mpr.materials.available_fields\n",
    "\n",
    "fields = ['nelements', 'formula_pretty', 'formula_anonymous', 'composition', 'composition_reduced', 'icsd_ids']\n",
    "\n",
    "docs = mpr.summary.search(elements=[\"O\"], fields=fields)\n",
    "\n"
   ]
  },
  {
   "cell_type": "code",
   "execution_count": 9,
   "id": "e6b72485",
   "metadata": {},
   "outputs": [
    {
     "name": "stdout",
     "output_type": "stream",
     "text": [
      "81887\n"
     ]
    }
   ],
   "source": [
    "print(len(docs))"
   ]
  },
  {
   "cell_type": "markdown",
   "id": "dfa82f14",
   "metadata": {},
   "source": [
    "## Step 2: Data cleaning"
   ]
  },
  {
   "cell_type": "markdown",
   "id": "762cf243",
   "metadata": {},
   "source": [
    "#### Cleaning training data"
   ]
  },
  {
   "cell_type": "code",
   "execution_count": 103,
   "id": "ee2dd79d",
   "metadata": {},
   "outputs": [
    {
     "name": "stdout",
     "output_type": "stream",
     "text": [
      "Materials in the csv file without E_Ovac:  415\n",
      "Materials in the csv file with E_Ovac:  4914\n",
      "Total materials in the csv file:  5329\n"
     ]
    }
   ],
   "source": [
    "TRAINING_DATA = [m for m in df if m['e_ovac'] != '-']\n",
    "PREDICTION_DATA = [m for m in df if m['e_ovac'] == '-']\n",
    "\n",
    "\n",
    "\n",
    "print(\"Materials in the csv file without E_Ovac: \", len(PREDICTION_DATA))\n",
    "print(\"Materials in the csv file with E_Ovac: \", len(TRAINING_DATA))\n",
    "print(\"Total materials in the csv file: \", len(df))\n"
   ]
  },
  {
   "cell_type": "code",
   "execution_count": 104,
   "id": "32308716",
   "metadata": {},
   "outputs": [
    {
     "name": "stdout",
     "output_type": "stream",
     "text": [
      "{'chem_formula': 'Ac2O3', 'e_ovac': '3.150'}\n"
     ]
    }
   ],
   "source": [
    "print(TRAINING_DATA[0])"
   ]
  },
  {
   "cell_type": "code",
   "execution_count": 105,
   "id": "eddf3e99",
   "metadata": {},
   "outputs": [
    {
     "name": "stdout",
     "output_type": "stream",
     "text": [
      "{'chem_formula': 'AcMgO3', 'e_ovac': '-'}\n"
     ]
    }
   ],
   "source": [
    "print(PREDICTION_DATA[0])"
   ]
  },
  {
   "cell_type": "markdown",
   "id": "953a7174",
   "metadata": {},
   "source": [
    "#### Create Model Training Data (Create train.csv, val.csv, test.csv)"
   ]
  },
  {
   "cell_type": "code",
   "execution_count": 106,
   "id": "e7a0b6bf",
   "metadata": {},
   "outputs": [
    {
     "name": "stdout",
     "output_type": "stream",
     "text": [
      "2948 983 983\n",
      "[2948, 983, 983] 4914 4914\n",
      "[{'chem_formula': 'RbTmO3', 'e_ovac': '-0.698'}, {'chem_formula': 'YbPmO3', 'e_ovac': '-1.616'}, {'chem_formula': 'UPuO3', 'e_ovac': '3.167'}, {'chem_formula': 'MgYbO3', 'e_ovac': '-4.027'}, {'chem_formula': 'TcHfO3', 'e_ovac': '1.949'}]\n",
      "[{'chem_formula': 'CeGdO3', 'e_ovac': '4.348'}, {'chem_formula': 'TmBiO3', 'e_ovac': '0.344'}, {'chem_formula': 'TlLuO3', 'e_ovac': '-2.715'}, {'chem_formula': 'NpBeO3', 'e_ovac': '1.432'}, {'chem_formula': 'TcRuO3', 'e_ovac': '1.727'}]\n",
      "[{'chem_formula': 'IrVO3', 'e_ovac': '-2.370'}, {'chem_formula': 'CdErO3', 'e_ovac': '-2.290'}, {'chem_formula': 'Dy2O3', 'e_ovac': '0.855'}, {'chem_formula': 'PtBiO3', 'e_ovac': '-4.385'}, {'chem_formula': 'PuYbO3', 'e_ovac': '-2.625'}]\n"
     ]
    }
   ],
   "source": [
    "## Split the data into train, test, val\n",
    "\n",
    "random.shuffle(TRAINING_DATA) # Shuffle the training data list on every run\n",
    "split_ratio = \"6:2:2\" # Set the ratio at with to split the data into train, test and validation sets from the training data list\n",
    "\n",
    "ratios = [round(int(r)/10 * len(TRAINING_DATA)) for r in split_ratio.split(':')] # Get the number of materials from the training data list according tp the ratio\n",
    "\n",
    "# Get X amount of data from the training dataset accoring to the set rratio\n",
    "train_set = TRAINING_DATA[:ratios[0]] \n",
    "test_set = TRAINING_DATA[ratios[0]:(ratios[0] + ratios[1])]\n",
    "val_set = TRAINING_DATA[(ratios[0] + ratios[1]):]\n",
    "\n",
    "print(len(train_set), len(test_set), len(val_set))\n",
    "print(ratios, sum(ratios), len(TRAINING_DATA))\n",
    "\n",
    "print(train_set[:5])\n",
    "print(test_set[:5])\n",
    "print(val_set[:5])\n",
    "# print(TRAINING_DATA[:5])"
   ]
  },
  {
   "cell_type": "code",
   "execution_count": 107,
   "id": "2624214b",
   "metadata": {},
   "outputs": [],
   "source": [
    "## Save data to CSV\n",
    "\n",
    "fields = ['formula', 'target']\n",
    "trin_rows = [[data.get('chem_formula'), data.get('e_ovac')] for data in train_set]\n",
    "val_rows = [[data.get('chem_formula'), data.get('e_ovac')] for data in val_set]\n",
    "test_rows = [[data.get('chem_formula'), data.get('e_ovac')] for data in test_set]\n",
    "\n",
    "# print(rows)\n",
    "## Create train.csv with train_set data\n",
    "with open(os.path.join(DATA_DIR, 'train.csv'), 'w') as train_file:\n",
    "    csvwriter = csv.writer(train_file)\n",
    "    \n",
    "    csvwriter.writerow(fields)\n",
    "    csvwriter.writerows(trin_rows)\n",
    "\n",
    "## Create val.csv with train_set data\n",
    "with open(os.path.join(DATA_DIR, 'val.csv'), 'w') as val_file:\n",
    "    csvwriter = csv.writer(val_file)\n",
    "    \n",
    "    csvwriter.writerow(fields)\n",
    "    csvwriter.writerows(val_rows)\n",
    "\n",
    "## Create test.csv with train_set data\n",
    "with open(os.path.join(DATA_DIR, 'test.csv'), 'w') as test_file:\n",
    "    csvwriter = csv.writer(test_file)\n",
    "    \n",
    "    csvwriter.writerow(fields)\n",
    "    csvwriter.writerows(test_rows)\n",
    "    "
   ]
  },
  {
   "cell_type": "markdown",
   "id": "f603efa0",
   "metadata": {},
   "source": [
    "#### Train the crabnet model"
   ]
  },
  {
   "cell_type": "code",
   "execution_count": null,
   "id": "673c0449",
   "metadata": {},
   "outputs": [],
   "source": [
    "from sklearn.metrics import roc_auc_score\n",
    "\n",
    "from crabnet.kingcrab import CrabNet\n",
    "from crabnet.model import Model\n",
    "from utils.get_compute_device import get_compute_device"
   ]
  },
  {
   "cell_type": "code",
   "execution_count": null,
   "id": "ecf814d6",
   "metadata": {},
   "outputs": [],
   "source": [
    "## Split the data into train, test, val\n",
    "\n",
    "random.shuffle(TRAINING_DATA) # Shuffle the training data list on every run\n",
    "split_ratio = \"6:2:2\" # Set the ratio at with to split the data into train, test and validation sets from the training data list\n",
    "\n",
    "ratios = [round(int(r)/10 * len(TRAINING_DATA)) for r in split_ratio.split(':')] # Get the number of materials from the training data list according tp the ratio\n",
    "\n",
    "# Get X amount of data from the training dataset accoring to the set rratio\n",
    "train_set = TRAINING_DATA[:ratios[0]] \n",
    "test_set = TRAINING_DATA[ratios[0]:(ratios[0] + ratios[1])]\n",
    "val_set = TRAINING_DATA[(ratios[0] + ratios[1]):]\n",
    "\n",
    "print(len(train_set), len(test_set), len(val_set))\n",
    "print(ratios, sum(ratios), len(TRAINING_DATA))\n",
    "\n",
    "print(train_set[:5])\n",
    "print(test_set[:5])\n",
    "print(val_set[:5])\n",
    "# print(TRAINING_DATA[:5])"
   ]
  },
  {
   "cell_type": "code",
   "execution_count": null,
   "id": "34bfb58d",
   "metadata": {},
   "outputs": [],
   "source": []
  },
  {
   "cell_type": "code",
   "execution_count": null,
   "id": "2509d6a3",
   "metadata": {},
   "outputs": [],
   "source": []
  },
  {
   "cell_type": "code",
   "execution_count": null,
   "id": "2791cbf5",
   "metadata": {},
   "outputs": [],
   "source": []
  },
  {
   "cell_type": "code",
   "execution_count": null,
   "id": "77a3dbda",
   "metadata": {},
   "outputs": [],
   "source": []
  }
 ],
 "metadata": {
  "kernelspec": {
   "display_name": "venv",
   "language": "python",
   "name": "python3"
  },
  "language_info": {
   "codemirror_mode": {
    "name": "ipython",
    "version": 3
   },
   "file_extension": ".py",
   "mimetype": "text/x-python",
   "name": "python",
   "nbconvert_exporter": "python",
   "pygments_lexer": "ipython3",
   "version": "3.9.10"
  },
  "vscode": {
   "interpreter": {
    "hash": "e630ce47219cbc3cf9bd40a5d2053fe8c01c1e3fde5ce6a5708bd102ab1478b7"
   }
  }
 },
 "nbformat": 4,
 "nbformat_minor": 5
}
