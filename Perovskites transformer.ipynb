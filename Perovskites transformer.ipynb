{
 "cells": [
  {
   "cell_type": "code",
   "execution_count": 31,
   "id": "aa846519",
   "metadata": {},
   "outputs": [
    {
     "name": "stdout",
     "output_type": "stream",
     "text": [
      "Requirement already satisfied: requests in ./venv/lib/python3.10/site-packages (2.28.2)\n",
      "Requirement already satisfied: certifi>=2017.4.17 in ./venv/lib/python3.10/site-packages (from requests) (2022.12.7)\n",
      "Requirement already satisfied: idna<4,>=2.5 in ./venv/lib/python3.10/site-packages (from requests) (3.4)\n",
      "Requirement already satisfied: charset-normalizer<4,>=2 in ./venv/lib/python3.10/site-packages (from requests) (3.0.1)\n",
      "Requirement already satisfied: urllib3<1.27,>=1.21.1 in ./venv/lib/python3.10/site-packages (from requests) (1.26.14)\n",
      "Requirement already satisfied: pandas in ./venv/lib/python3.10/site-packages (1.5.3)\n",
      "Requirement already satisfied: pytz>=2020.1 in ./venv/lib/python3.10/site-packages (from pandas) (2022.7.1)\n",
      "Requirement already satisfied: numpy>=1.21.0 in ./venv/lib/python3.10/site-packages (from pandas) (1.23.5)\n",
      "Requirement already satisfied: python-dateutil>=2.8.1 in ./venv/lib/python3.10/site-packages (from pandas) (2.8.2)\n",
      "Requirement already satisfied: six>=1.5 in ./venv/lib/python3.10/site-packages (from python-dateutil>=2.8.1->pandas) (1.16.0)\n",
      "Requirement already satisfied: mp-api in ./venv/lib/python3.10/site-packages (0.30.8)\n",
      "Requirement already satisfied: typing-extensions>=3.7.4.1 in ./venv/lib/python3.10/site-packages (from mp-api) (4.4.0)\n",
      "Requirement already satisfied: setuptools in ./venv/lib/python3.10/site-packages (from mp-api) (59.6.0)\n",
      "Requirement already satisfied: pymatgen>=2022.3.7 in ./venv/lib/python3.10/site-packages (from mp-api) (2023.1.20)\n",
      "Requirement already satisfied: msgpack in ./venv/lib/python3.10/site-packages (from mp-api) (1.0.4)\n",
      "Requirement already satisfied: emmet-core>=0.39.8 in ./venv/lib/python3.10/site-packages (from mp-api) (0.39.13)\n",
      "Requirement already satisfied: monty>=2021.3.12 in ./venv/lib/python3.10/site-packages (from mp-api) (2022.9.9)\n",
      "Requirement already satisfied: requests>=2.23.0 in ./venv/lib/python3.10/site-packages (from mp-api) (2.28.2)\n",
      "Requirement already satisfied: numpy<1.24 in ./venv/lib/python3.10/site-packages (from emmet-core>=0.39.8->mp-api) (1.23.5)\n",
      "Requirement already satisfied: spglib>=2.0.1 in ./venv/lib/python3.10/site-packages (from emmet-core>=0.39.8->mp-api) (2.0.2)\n",
      "Requirement already satisfied: pydantic>=1.10.2 in ./venv/lib/python3.10/site-packages (from emmet-core>=0.39.8->mp-api) (1.10.4)\n",
      "Requirement already satisfied: pybtex~=0.24 in ./venv/lib/python3.10/site-packages (from emmet-core>=0.39.8->mp-api) (0.24.0)\n",
      "Requirement already satisfied: ruamel.yaml>=0.17.0 in ./venv/lib/python3.10/site-packages (from pymatgen>=2022.3.7->mp-api) (0.17.21)\n",
      "Requirement already satisfied: pandas in ./venv/lib/python3.10/site-packages (from pymatgen>=2022.3.7->mp-api) (1.5.3)\n",
      "Requirement already satisfied: tqdm in ./venv/lib/python3.10/site-packages (from pymatgen>=2022.3.7->mp-api) (4.64.1)\n",
      "Requirement already satisfied: scipy>=1.5.0 in ./venv/lib/python3.10/site-packages (from pymatgen>=2022.3.7->mp-api) (1.10.0)\n",
      "Requirement already satisfied: sympy in ./venv/lib/python3.10/site-packages (from pymatgen>=2022.3.7->mp-api) (1.11.1)\n",
      "Requirement already satisfied: tabulate in ./venv/lib/python3.10/site-packages (from pymatgen>=2022.3.7->mp-api) (0.9.0)\n",
      "Requirement already satisfied: plotly>=4.5.0 in ./venv/lib/python3.10/site-packages (from pymatgen>=2022.3.7->mp-api) (5.13.0)\n",
      "Requirement already satisfied: uncertainties>=3.1.4 in ./venv/lib/python3.10/site-packages (from pymatgen>=2022.3.7->mp-api) (3.1.7)\n",
      "Requirement already satisfied: networkx>=2.2 in ./venv/lib/python3.10/site-packages (from pymatgen>=2022.3.7->mp-api) (3.0)\n",
      "Requirement already satisfied: matplotlib>=1.5 in ./venv/lib/python3.10/site-packages (from pymatgen>=2022.3.7->mp-api) (3.6.3)\n",
      "Requirement already satisfied: palettable>=3.1.1 in ./venv/lib/python3.10/site-packages (from pymatgen>=2022.3.7->mp-api) (3.3.0)\n",
      "Requirement already satisfied: idna<4,>=2.5 in ./venv/lib/python3.10/site-packages (from requests>=2.23.0->mp-api) (3.4)\n",
      "Requirement already satisfied: charset-normalizer<4,>=2 in ./venv/lib/python3.10/site-packages (from requests>=2.23.0->mp-api) (3.0.1)\n",
      "Requirement already satisfied: certifi>=2017.4.17 in ./venv/lib/python3.10/site-packages (from requests>=2.23.0->mp-api) (2022.12.7)\n",
      "Requirement already satisfied: urllib3<1.27,>=1.21.1 in ./venv/lib/python3.10/site-packages (from requests>=2.23.0->mp-api) (1.26.14)\n",
      "Requirement already satisfied: kiwisolver>=1.0.1 in ./venv/lib/python3.10/site-packages (from matplotlib>=1.5->pymatgen>=2022.3.7->mp-api) (1.4.4)\n",
      "Requirement already satisfied: pyparsing>=2.2.1 in ./venv/lib/python3.10/site-packages (from matplotlib>=1.5->pymatgen>=2022.3.7->mp-api) (3.0.9)\n",
      "Requirement already satisfied: pillow>=6.2.0 in ./venv/lib/python3.10/site-packages (from matplotlib>=1.5->pymatgen>=2022.3.7->mp-api) (9.4.0)\n",
      "Requirement already satisfied: packaging>=20.0 in ./venv/lib/python3.10/site-packages (from matplotlib>=1.5->pymatgen>=2022.3.7->mp-api) (22.0)\n",
      "Requirement already satisfied: cycler>=0.10 in ./venv/lib/python3.10/site-packages (from matplotlib>=1.5->pymatgen>=2022.3.7->mp-api) (0.11.0)\n",
      "Requirement already satisfied: contourpy>=1.0.1 in ./venv/lib/python3.10/site-packages (from matplotlib>=1.5->pymatgen>=2022.3.7->mp-api) (1.0.7)\n",
      "Requirement already satisfied: python-dateutil>=2.7 in ./venv/lib/python3.10/site-packages (from matplotlib>=1.5->pymatgen>=2022.3.7->mp-api) (2.8.2)\n",
      "Requirement already satisfied: fonttools>=4.22.0 in ./venv/lib/python3.10/site-packages (from matplotlib>=1.5->pymatgen>=2022.3.7->mp-api) (4.38.0)\n",
      "Requirement already satisfied: tenacity>=6.2.0 in ./venv/lib/python3.10/site-packages (from plotly>=4.5.0->pymatgen>=2022.3.7->mp-api) (8.1.0)\n",
      "Requirement already satisfied: six in ./venv/lib/python3.10/site-packages (from pybtex~=0.24->emmet-core>=0.39.8->mp-api) (1.16.0)\n",
      "Requirement already satisfied: PyYAML>=3.01 in ./venv/lib/python3.10/site-packages (from pybtex~=0.24->emmet-core>=0.39.8->mp-api) (6.0)\n",
      "Requirement already satisfied: latexcodec>=1.0.4 in ./venv/lib/python3.10/site-packages (from pybtex~=0.24->emmet-core>=0.39.8->mp-api) (2.0.1)\n",
      "Requirement already satisfied: ruamel.yaml.clib>=0.2.6 in ./venv/lib/python3.10/site-packages (from ruamel.yaml>=0.17.0->pymatgen>=2022.3.7->mp-api) (0.2.7)\n",
      "Requirement already satisfied: future in ./venv/lib/python3.10/site-packages (from uncertainties>=3.1.4->pymatgen>=2022.3.7->mp-api) (0.18.3)\n",
      "Requirement already satisfied: pytz>=2020.1 in ./venv/lib/python3.10/site-packages (from pandas->pymatgen>=2022.3.7->mp-api) (2022.7.1)\n",
      "Requirement already satisfied: mpmath>=0.19 in ./venv/lib/python3.10/site-packages (from sympy->pymatgen>=2022.3.7->mp-api) (1.2.1)\n",
      "Collecting requests-html\n",
      "  Downloading requests_html-0.10.0-py3-none-any.whl (13 kB)\n",
      "Collecting parse\n",
      "  Downloading parse-1.19.0.tar.gz (30 kB)\n",
      "  Preparing metadata (setup.py) ... \u001b[?25ldone\n",
      "\u001b[?25hCollecting pyppeteer>=0.0.14\n",
      "  Downloading pyppeteer-1.0.2-py3-none-any.whl (83 kB)\n",
      "\u001b[2K     \u001b[38;2;114;156;31m━━━━━━━━━━━━━━━━━━━━━━━━━━━━━━━━━━━━━━━\u001b[0m \u001b[32m83.4/83.4 KB\u001b[0m \u001b[31m443.0 kB/s\u001b[0m eta \u001b[36m0:00:00\u001b[0m[36m0:00:01\u001b[0m eta \u001b[36m0:00:01\u001b[0m\n",
      "\u001b[?25hCollecting bs4\n",
      "  Downloading bs4-0.0.1.tar.gz (1.1 kB)\n",
      "  Preparing metadata (setup.py) ... \u001b[?25ldone\n",
      "\u001b[?25hCollecting fake-useragent\n",
      "  Downloading fake_useragent-1.1.1-py3-none-any.whl (50 kB)\n",
      "\u001b[2K     \u001b[38;2;114;156;31m━━━━━━━━━━━━━━━━━━━━━━━━━━━━━━━━━━━━━━━\u001b[0m \u001b[32m50.4/50.4 KB\u001b[0m \u001b[31m216.8 kB/s\u001b[0m eta \u001b[36m0:00:00\u001b[0m1m257.8 kB/s\u001b[0m eta \u001b[36m0:00:01\u001b[0m\n",
      "\u001b[?25hRequirement already satisfied: requests in ./venv/lib/python3.10/site-packages (from requests-html) (2.28.2)\n",
      "Collecting w3lib\n",
      "  Downloading w3lib-2.1.1-py3-none-any.whl (21 kB)\n",
      "Collecting pyquery\n",
      "  Downloading pyquery-2.0.0-py3-none-any.whl (22 kB)\n",
      "Requirement already satisfied: urllib3<2.0.0,>=1.25.8 in ./venv/lib/python3.10/site-packages (from pyppeteer>=0.0.14->requests-html) (1.26.14)\n",
      "Requirement already satisfied: certifi>=2021 in ./venv/lib/python3.10/site-packages (from pyppeteer>=0.0.14->requests-html) (2022.12.7)\n",
      "Requirement already satisfied: tqdm<5.0.0,>=4.42.1 in ./venv/lib/python3.10/site-packages (from pyppeteer>=0.0.14->requests-html) (4.64.1)\n",
      "Collecting websockets<11.0,>=10.0\n",
      "  Downloading websockets-10.4-cp310-cp310-manylinux_2_5_x86_64.manylinux1_x86_64.manylinux_2_17_x86_64.manylinux2014_x86_64.whl (106 kB)\n"
     ]
    },
    {
     "name": "stdout",
     "output_type": "stream",
     "text": [
      "\u001b[2K     \u001b[38;2;114;156;31m━━━━━━━━━━━━━━━━━━━━━━━━━━━━━━━━━━━━━\u001b[0m \u001b[32m106.8/106.8 KB\u001b[0m \u001b[31m506.7 kB/s\u001b[0m eta \u001b[36m0:00:00\u001b[0m kB/s\u001b[0m eta \u001b[36m0:00:01\u001b[0m:01\u001b[0m\n",
      "\u001b[?25hCollecting appdirs<2.0.0,>=1.4.3\n",
      "  Downloading appdirs-1.4.4-py2.py3-none-any.whl (9.6 kB)\n",
      "Collecting importlib-metadata>=1.4\n",
      "  Downloading importlib_metadata-6.0.0-py3-none-any.whl (21 kB)\n",
      "Collecting pyee<9.0.0,>=8.1.0\n",
      "  Downloading pyee-8.2.2-py2.py3-none-any.whl (12 kB)\n",
      "Requirement already satisfied: beautifulsoup4 in ./venv/lib/python3.10/site-packages (from bs4->requests-html) (4.11.1)\n",
      "Collecting lxml>=2.1\n",
      "  Downloading lxml-4.9.2-cp310-cp310-manylinux_2_17_x86_64.manylinux2014_x86_64.manylinux_2_24_x86_64.whl (7.1 MB)\n",
      "\u001b[2K     \u001b[38;2;114;156;31m━━━━━━━━━━━━━━━━━━━━━━━━━━━━━━━━━━━━━━━━\u001b[0m \u001b[32m7.1/7.1 MB\u001b[0m \u001b[31m266.6 kB/s\u001b[0m eta \u001b[36m0:00:00\u001b[0mm eta \u001b[36m0:00:01\u001b[0m[36m0:00:01\u001b[0m\n",
      "\u001b[?25hCollecting cssselect>=1.2.0\n",
      "  Downloading cssselect-1.2.0-py2.py3-none-any.whl (18 kB)\n",
      "Requirement already satisfied: idna<4,>=2.5 in ./venv/lib/python3.10/site-packages (from requests->requests-html) (3.4)\n",
      "Requirement already satisfied: charset-normalizer<4,>=2 in ./venv/lib/python3.10/site-packages (from requests->requests-html) (3.0.1)\n",
      "Collecting zipp>=0.5\n",
      "  Downloading zipp-3.12.0-py3-none-any.whl (6.6 kB)\n",
      "Requirement already satisfied: soupsieve>1.2 in ./venv/lib/python3.10/site-packages (from beautifulsoup4->bs4->requests-html) (2.3.2.post1)\n",
      "Using legacy 'setup.py install' for bs4, since package 'wheel' is not installed.\n",
      "Using legacy 'setup.py install' for parse, since package 'wheel' is not installed.\n",
      "Installing collected packages: pyee, parse, fake-useragent, appdirs, zipp, websockets, w3lib, lxml, cssselect, pyquery, importlib-metadata, bs4, pyppeteer, requests-html\n",
      "  Running setup.py install for parse ... \u001b[?25ldone\n",
      "\u001b[?25h  Running setup.py install for bs4 ... \u001b[?25ldone\n",
      "\u001b[?25hSuccessfully installed appdirs-1.4.4 bs4-0.0.1 cssselect-1.2.0 fake-useragent-1.1.1 importlib-metadata-6.0.0 lxml-4.9.2 parse-1.19.0 pyee-8.2.2 pyppeteer-1.0.2 pyquery-2.0.0 requests-html-0.10.0 w3lib-2.1.1 websockets-10.4 zipp-3.12.0\n"
     ]
    }
   ],
   "source": [
    "!pip install requests\n",
    "!pip install pandas\n",
    "!pip install mp-api\n",
    "!pip install requests-html"
   ]
  },
  {
   "cell_type": "code",
   "execution_count": 14,
   "id": "78291c88",
   "metadata": {},
   "outputs": [],
   "source": [
    "import csv\n",
    "import json\n",
    "import os\n",
    "import pandas as pd\n",
    "from mp_api.client import MPRester\n",
    "from tqdm.notebook import tqdm\n",
    "from ast import literal_eval\n",
    "import math\n",
    "from concurrent.futures import ThreadPoolExecutor\n",
    "import requests\n",
    "from requests_html import HTMLSession\n",
    "import random"
   ]
  },
  {
   "cell_type": "code",
   "execution_count": 85,
   "id": "88a33cfa",
   "metadata": {},
   "outputs": [
    {
     "name": "stdout",
     "output_type": "stream",
     "text": [
      "/home/murimikelvin/ML-perovskites-project/Vacancyenergydata.csv\n"
     ]
    }
   ],
   "source": [
    "ROOT_DIR = os.path.abspath(\"\")\n",
    "DATA_DIR = os.path.join(ROOT_DIR, 'CrabNet/data/materials_data')\n",
    "TRAINING_CSV_FILE = os.path.join(ROOT_DIR, \"Vacancyenergydata.csv\")\n",
    "API_KEY = \"3XX6x9Nd3cKWf9Q4wpaio64CBHFp2uDq\"\n",
    "TRAINING_DATA = []\n",
    "mpr = MPRester(API_KEY)\n",
    "\n",
    "print(TRAINING_CSV_FILE)"
   ]
  },
  {
   "cell_type": "markdown",
   "id": "602bae37",
   "metadata": {},
   "source": [
    "## Step1:Collecting data."
   ]
  },
  {
   "cell_type": "markdown",
   "id": "8d3d591b",
   "metadata": {},
   "source": [
    "#### Load Training data."
   ]
  },
  {
   "cell_type": "code",
   "execution_count": 102,
   "id": "d7b7cda7",
   "metadata": {},
   "outputs": [
    {
     "name": "stdout",
     "output_type": "stream",
     "text": [
      "Index(['Chemical formula', 'A', 'B', 'In literature', 'Valence A', 'Valence B',\n",
      "       'Radius A [ang]', 'Radius B [ang]', 'Lowest distortion',\n",
      "       'Formation energy [eV/atom]', 'Stability [eV/atom]',\n",
      "       'Magnetic moment [mu_B]', 'Volume per atom [A^3/atom]', 'Band gap [eV]',\n",
      "       'a [ang]', 'b [ang]', 'c [ang]', 'alpha [deg]', 'beta [deg]',\n",
      "       'gamma [deg]', 'Vacancy energy [eV/O atom]'],\n",
      "      dtype='object')\n"
     ]
    },
    {
     "data": {
      "text/plain": [
       "[{'chem_formula': 'Ac2O3', 'e_ovac': '3.150'},\n",
       " {'chem_formula': 'AcAgO3', 'e_ovac': '0.817'},\n",
       " {'chem_formula': 'AcAlO3', 'e_ovac': '6.695'},\n",
       " {'chem_formula': 'AcAsO3', 'e_ovac': '3.634'},\n",
       " {'chem_formula': 'AcAuO3', 'e_ovac': '0.807'},\n",
       " {'chem_formula': 'AcBO3', 'e_ovac': '4.163'},\n",
       " {'chem_formula': 'AcBaO3', 'e_ovac': '-1.771'},\n",
       " {'chem_formula': 'AcBeO3', 'e_ovac': '-0.080'},\n",
       " {'chem_formula': 'AcBiO3', 'e_ovac': '2.653'},\n",
       " {'chem_formula': 'AcCaO3', 'e_ovac': '-1.025'}]"
      ]
     },
     "execution_count": 102,
     "metadata": {},
     "output_type": "execute_result"
    }
   ],
   "source": [
    "df = pd.read_csv(TRAINING_CSV_FILE)\n",
    "print(df.columns)\n",
    "df = df[['Chemical formula', 'Vacancy energy [eV/O atom]']]\n",
    "new_names = {\n",
    "    'Chemical formula': 'chem_formula',\n",
    "    'Vacancy energy [eV/O atom]': 'e_ovac'\n",
    "}\n",
    "df.rename(columns=new_names, inplace=True)\n",
    "df = df.to_dict(\"records\")\n",
    "df[:10]\n"
   ]
  },
  {
   "cell_type": "markdown",
   "id": "d4d082aa",
   "metadata": {},
   "source": [
    "#### Loading prediction data"
   ]
  },
  {
   "cell_type": "code",
   "execution_count": 36,
   "id": "b3b4ffe9",
   "metadata": {},
   "outputs": [
    {
     "name": "stdout",
     "output_type": "stream",
     "text": [
      "['__call__', '__class__', '__delattr__', '__dir__', '__doc__', '__eq__', '__format__', '__func__', '__ge__', '__get__', '__getattribute__', '__gt__', '__hash__', '__init__', '__init_subclass__', '__le__', '__lt__', '__ne__', '__new__', '__reduce__', '__reduce_ex__', '__repr__', '__self__', '__setattr__', '__sizeof__', '__str__', '__subclasshook__']\n"
     ]
    }
   ],
   "source": [
    "list_of_available_fields = mpr.summary.available_fields\n",
    "\n",
    "print(dir(mpr.summary.search))"
   ]
  },
  {
   "cell_type": "code",
   "execution_count": 8,
   "id": "f90d9287",
   "metadata": {
    "scrolled": false
   },
   "outputs": [
    {
     "name": "stderr",
     "output_type": "stream",
     "text": [
      "Retrieving SummaryDoc documents: 100%|████████████████████████████████████████████████████████████████████████| 81887/81887 [01:05<00:00, 1250.78it/s]\n"
     ]
    }
   ],
   "source": [
    "\n",
    "# mpr.materials.available_fields\n",
    "\n",
    "fields = ['nelements', 'formula_pretty', 'formula_anonymous', 'composition', 'composition_reduced', 'icsd_ids']\n",
    "\n",
    "docs = mpr.summary.search(elements=[\"O\"], fields=fields)\n",
    "\n"
   ]
  },
  {
   "cell_type": "code",
   "execution_count": 9,
   "id": "e6b72485",
   "metadata": {},
   "outputs": [
    {
     "name": "stdout",
     "output_type": "stream",
     "text": [
      "81887\n"
     ]
    }
   ],
   "source": [
    "print(len(docs))"
   ]
  },
  {
   "cell_type": "markdown",
   "id": "dfa82f14",
   "metadata": {},
   "source": [
    "## Step 2: Data cleaning"
   ]
  },
  {
   "cell_type": "markdown",
   "id": "762cf243",
   "metadata": {},
   "source": [
    "#### Cleaning training data"
   ]
  },
  {
   "cell_type": "code",
   "execution_count": 103,
   "id": "ee2dd79d",
   "metadata": {},
   "outputs": [
    {
     "name": "stdout",
     "output_type": "stream",
     "text": [
      "Materials in the csv file without E_Ovac:  415\n",
      "Materials in the csv file with E_Ovac:  4914\n",
      "Total materials in the csv file:  5329\n"
     ]
    }
   ],
   "source": [
    "TRAINING_DATA = [m for m in df if m['e_ovac'] != '-']\n",
    "PREDICTION_DATA = [m for m in df if m['e_ovac'] == '-']\n",
    "\n",
    "\n",
    "\n",
    "print(\"Materials in the csv file without E_Ovac: \", len(PREDICTION_DATA))\n",
    "print(\"Materials in the csv file with E_Ovac: \", len(TRAINING_DATA))\n",
    "print(\"Total materials in the csv file: \", len(df))\n"
   ]
  },
  {
   "cell_type": "code",
   "execution_count": 104,
   "id": "32308716",
   "metadata": {},
   "outputs": [
    {
     "name": "stdout",
     "output_type": "stream",
     "text": [
      "{'chem_formula': 'Ac2O3', 'e_ovac': '3.150'}\n"
     ]
    }
   ],
   "source": [
    "print(TRAINING_DATA[0])"
   ]
  },
  {
   "cell_type": "code",
   "execution_count": 105,
   "id": "eddf3e99",
   "metadata": {},
   "outputs": [
    {
     "name": "stdout",
     "output_type": "stream",
     "text": [
      "{'chem_formula': 'AcMgO3', 'e_ovac': '-'}\n"
     ]
    }
   ],
   "source": [
    "print(PREDICTION_DATA[0])"
   ]
  },
  {
   "cell_type": "markdown",
   "id": "953a7174",
   "metadata": {},
   "source": [
    "#### Create Model Training Data (Create train.csv, val.csv, test.csv)"
   ]
  },
  {
   "cell_type": "code",
   "execution_count": 106,
   "id": "e7a0b6bf",
   "metadata": {},
   "outputs": [
    {
     "name": "stdout",
     "output_type": "stream",
     "text": [
      "2948 983 983\n",
      "[2948, 983, 983] 4914 4914\n",
      "[{'chem_formula': 'RbTmO3', 'e_ovac': '-0.698'}, {'chem_formula': 'YbPmO3', 'e_ovac': '-1.616'}, {'chem_formula': 'UPuO3', 'e_ovac': '3.167'}, {'chem_formula': 'MgYbO3', 'e_ovac': '-4.027'}, {'chem_formula': 'TcHfO3', 'e_ovac': '1.949'}]\n",
      "[{'chem_formula': 'CeGdO3', 'e_ovac': '4.348'}, {'chem_formula': 'TmBiO3', 'e_ovac': '0.344'}, {'chem_formula': 'TlLuO3', 'e_ovac': '-2.715'}, {'chem_formula': 'NpBeO3', 'e_ovac': '1.432'}, {'chem_formula': 'TcRuO3', 'e_ovac': '1.727'}]\n",
      "[{'chem_formula': 'IrVO3', 'e_ovac': '-2.370'}, {'chem_formula': 'CdErO3', 'e_ovac': '-2.290'}, {'chem_formula': 'Dy2O3', 'e_ovac': '0.855'}, {'chem_formula': 'PtBiO3', 'e_ovac': '-4.385'}, {'chem_formula': 'PuYbO3', 'e_ovac': '-2.625'}]\n"
     ]
    }
   ],
   "source": [
    "## Split the data into train, test, val\n",
    "\n",
    "random.shuffle(TRAINING_DATA) # Shuffle the training data list on every run\n",
    "split_ratio = \"6:2:2\" # Set the ratio at with to split the data into train, test and validation sets from the training data list\n",
    "\n",
    "ratios = [round(int(r)/10 * len(TRAINING_DATA)) for r in split_ratio.split(':')] # Get the number of materials from the training data list according tp the ratio\n",
    "\n",
    "# Get X amount of data from the training dataset accoring to the set rratio\n",
    "train_set = TRAINING_DATA[:ratios[0]] \n",
    "test_set = TRAINING_DATA[ratios[0]:(ratios[0] + ratios[1])]\n",
    "val_set = TRAINING_DATA[(ratios[0] + ratios[1]):]\n",
    "\n",
    "print(len(train_set), len(test_set), len(val_set))\n",
    "print(ratios, sum(ratios), len(TRAINING_DATA))\n",
    "\n",
    "print(train_set[:5])\n",
    "print(test_set[:5])\n",
    "print(val_set[:5])\n",
    "# print(TRAINING_DATA[:5])"
   ]
  },
  {
   "cell_type": "code",
   "execution_count": 107,
   "id": "2624214b",
   "metadata": {},
   "outputs": [],
   "source": [
    "## Save data to CSV\n",
    "\n",
    "fields = ['formula', 'target']\n",
    "trin_rows = [[data.get('chem_formula'), data.get('e_ovac')] for data in train_set]\n",
    "val_rows = [[data.get('chem_formula'), data.get('e_ovac')] for data in val_set]\n",
    "test_rows = [[data.get('chem_formula'), data.get('e_ovac')] for data in test_set]\n",
    "\n",
    "# print(rows)\n",
    "## Create train.csv with train_set data\n",
    "with open(os.path.join(DATA_DIR, 'train.csv'), 'w') as train_file:\n",
    "    csvwriter = csv.writer(train_file)\n",
    "    \n",
    "    csvwriter.writerow(fields)\n",
    "    csvwriter.writerows(trin_rows)\n",
    "\n",
    "## Create val.csv with train_set data\n",
    "with open(os.path.join(DATA_DIR, 'val.csv'), 'w') as val_file:\n",
    "    csvwriter = csv.writer(val_file)\n",
    "    \n",
    "    csvwriter.writerow(fields)\n",
    "    csvwriter.writerows(val_rows)\n",
    "\n",
    "## Create test.csv with train_set data\n",
    "with open(os.path.join(DATA_DIR, 'test.csv'), 'w') as test_file:\n",
    "    csvwriter = csv.writer(test_file)\n",
    "    \n",
    "    csvwriter.writerow(fields)\n",
    "    csvwriter.writerows(test_rows)\n",
    "    "
   ]
  },
  {
   "cell_type": "markdown",
   "id": "b59e405c",
   "metadata": {},
   "source": [
    "#### Train the crabnet model"
   ]
  },
  {
   "cell_type": "code",
   "execution_count": null,
   "id": "673c0449",
   "metadata": {},
   "outputs": [],
   "source": []
  },
  {
   "cell_type": "code",
   "execution_count": null,
   "id": "ecf814d6",
   "metadata": {},
   "outputs": [],
   "source": []
  },
  {
   "cell_type": "code",
   "execution_count": null,
   "id": "34bfb58d",
   "metadata": {},
   "outputs": [],
   "source": []
  },
  {
   "cell_type": "code",
   "execution_count": null,
   "id": "2509d6a3",
   "metadata": {},
   "outputs": [],
   "source": []
  },
  {
   "cell_type": "code",
   "execution_count": null,
   "id": "2791cbf5",
   "metadata": {},
   "outputs": [],
   "source": []
  },
  {
   "cell_type": "code",
   "execution_count": null,
   "id": "77a3dbda",
   "metadata": {},
   "outputs": [],
   "source": []
  }
 ],
 "metadata": {
  "kernelspec": {
   "display_name": "Python 3 (ipykernel)",
   "language": "python",
   "name": "python3"
  },
  "language_info": {
   "codemirror_mode": {
    "name": "ipython",
    "version": 3
   },
   "file_extension": ".py",
   "mimetype": "text/x-python",
   "name": "python",
   "nbconvert_exporter": "python",
   "pygments_lexer": "ipython3",
   "version": "3.10.6"
  }
 },
 "nbformat": 4,
 "nbformat_minor": 5
}
