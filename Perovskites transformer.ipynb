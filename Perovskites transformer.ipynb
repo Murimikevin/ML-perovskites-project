{
 "cells": [
  {
   "cell_type": "code",
   "execution_count": null,
   "id": "aa846519",
   "metadata": {},
   "outputs": [],
   "source": [
    "%pip install requests\n",
    "%pip install pandas\n",
    "%pip install -U scikit-learn"
   ]
  },
  {
   "cell_type": "code",
   "execution_count": 3,
   "id": "78291c88",
   "metadata": {},
   "outputs": [],
   "source": [
    "import csv\n",
    "import json\n",
    "import os\n",
    "import pandas as pd\n",
    "from tqdm.notebook import tqdm\n",
    "from ast import literal_eval\n",
    "import math\n",
    "from concurrent.futures import ThreadPoolExecutor\n",
    "import requests\n",
    "import random\n",
    "import subprocess\n",
    "\n",
    "import os\n",
    "import numpy as np\n",
    "import pandas as pd\n",
    "import torch"
   ]
  },
  {
   "cell_type": "code",
   "execution_count": 4,
   "id": "88a33cfa",
   "metadata": {},
   "outputs": [
    {
     "name": "stdout",
     "output_type": "stream",
     "text": [
      "d:\\Projects and Research\\Python Projects\\Kevin-ML-perovskites-project\\Vacancyenergydata.csv\n"
     ]
    }
   ],
   "source": [
    "ROOT_DIR = os.path.abspath(\"\")\n",
    "DATA_DIR = os.path.join(ROOT_DIR, 'CrabNet/data/materials_data')\n",
    "TRAINING_CSV_FILE = os.path.join(ROOT_DIR, \"Vacancyenergydata.csv\")\n",
    "API_KEY = \"3XX6x9Nd3cKWf9Q4wpaio64CBHFp2uDq\"\n",
    "TRAINING_DATA = []\n",
    "\n",
    "print(TRAINING_CSV_FILE)"
   ]
  },
  {
   "cell_type": "markdown",
   "id": "602bae37",
   "metadata": {},
   "source": [
    "## Step1:Collecting data."
   ]
  },
  {
   "attachments": {},
   "cell_type": "markdown",
   "id": "8d3d591b",
   "metadata": {},
   "source": [
    "#### Load Training and Prediction data from the csv file."
   ]
  },
  {
   "cell_type": "code",
   "execution_count": 5,
   "id": "d7b7cda7",
   "metadata": {},
   "outputs": [
    {
     "name": "stdout",
     "output_type": "stream",
     "text": [
      "Index(['Chemical formula', 'A', 'B', 'In literature', 'Valence A', 'Valence B',\n",
      "       'Radius A [ang]', 'Radius B [ang]', 'Lowest distortion',\n",
      "       'Formation energy [eV/atom]', 'Stability [eV/atom]',\n",
      "       'Magnetic moment [mu_B]', 'Volume per atom [A^3/atom]', 'Band gap [eV]',\n",
      "       'a [ang]', 'b [ang]', 'c [ang]', 'alpha [deg]', 'beta [deg]',\n",
      "       'gamma [deg]', 'Vacancy energy [eV/O atom]'],\n",
      "      dtype='object')\n",
      "  Chemical formula   A   B  In literature          Valence A  \\\n",
      "0            Ac2O3  Ac  Ac          False  element not in BV   \n",
      "1           AcAgO3  Ac  Ag          False  element not in BV   \n",
      "2           AcAlO3  Ac  Al          False  element not in BV   \n",
      "3           AcAsO3  Ac  As          False  element not in BV   \n",
      "4           AcAuO3  Ac  Au          False  element not in BV   \n",
      "\n",
      "           Valence B  Radius A [ang]  Radius B [ang] Lowest distortion  \\\n",
      "0  element not in BV            1.12            1.12             cubic   \n",
      "1  element not in BV            1.12            0.95      orthorhombic   \n",
      "2  element not in BV            1.12            0.54             cubic   \n",
      "3  element not in BV            1.12            0.52      orthorhombic   \n",
      "4  element not in BV            1.12            0.93      orthorhombic   \n",
      "\n",
      "  Formation energy [eV/atom]  ... Magnetic moment [mu_B]  \\\n",
      "0                     -2.732  ...                  0.000   \n",
      "1                     -1.957  ...                  0.000   \n",
      "2                     -3.532  ...                  0.000   \n",
      "3                     -2.398  ...                  0.000   \n",
      "4                     -2.006  ...                  0.000   \n",
      "\n",
      "  Volume per atom [A^3/atom] Band gap [eV] a [ang] b [ang] c [ang]  \\\n",
      "0                     20.836         0.332   4.705   4.705   4.705   \n",
      "1                     14.485         0.000   5.779   6.077   8.248   \n",
      "2                     11.487         4.307   3.858   3.858   3.858   \n",
      "3                     14.355         0.000   5.780   6.012   8.262   \n",
      "4                     15.190         0.745   5.899   6.750   7.630   \n",
      "\n",
      "  alpha [deg] beta [deg] gamma [deg] Vacancy energy [eV/O atom]  \n",
      "0        90.0       90.0        90.0                      3.150  \n",
      "1        90.0       90.0        90.0                      0.817  \n",
      "2        90.0       90.0        90.0                      6.695  \n",
      "3        90.0       90.0        90.0                      3.634  \n",
      "4        90.0       90.0        90.0                      0.807  \n",
      "\n",
      "[5 rows x 21 columns]\n",
      "[{'chem_formula': 'Ac2O3', 'e_ovac': '3.150'}, {'chem_formula': 'AcAgO3', 'e_ovac': '0.817'}, {'chem_formula': 'AcAlO3', 'e_ovac': '6.695'}, {'chem_formula': 'AcAsO3', 'e_ovac': '3.634'}, {'chem_formula': 'AcAuO3', 'e_ovac': '0.807'}, {'chem_formula': 'AcBO3', 'e_ovac': '4.163'}, {'chem_formula': 'AcBaO3', 'e_ovac': '-1.771'}, {'chem_formula': 'AcBeO3', 'e_ovac': '-0.080'}, {'chem_formula': 'AcBiO3', 'e_ovac': '2.653'}, {'chem_formula': 'AcCaO3', 'e_ovac': '-1.025'}]\n"
     ]
    }
   ],
   "source": [
    "df = pd.read_csv(TRAINING_CSV_FILE)\n",
    "\n",
    "print(df.columns)\n",
    "print(df.head())\n",
    "\n",
    "df = df[['Chemical formula', 'Vacancy energy [eV/O atom]']]\n",
    "new_names = {\n",
    "    'Chemical formula': 'chem_formula',\n",
    "    'Vacancy energy [eV/O atom]': 'e_ovac'\n",
    "}\n",
    "df.rename(columns=new_names, inplace=True)\n",
    "df = df.to_dict(\"records\")\n",
    "print(df[:10])\n"
   ]
  },
  {
   "cell_type": "markdown",
   "id": "dfa82f14",
   "metadata": {},
   "source": [
    "## Step 2: Data cleaning"
   ]
  },
  {
   "cell_type": "markdown",
   "id": "762cf243",
   "metadata": {},
   "source": [
    "#### Cleaning training data"
   ]
  },
  {
   "cell_type": "code",
   "execution_count": 6,
   "id": "ee2dd79d",
   "metadata": {},
   "outputs": [
    {
     "name": "stdout",
     "output_type": "stream",
     "text": [
      "Materials in the csv file without E_Ovac:  415\n",
      "Materials in the csv file with E_Ovac:  4914\n",
      "Total materials in the csv file:  5329\n"
     ]
    }
   ],
   "source": [
    "TRAINING_DATA = [m for m in df if m['e_ovac'] != '-']\n",
    "PREDICTION_DATA = [m for m in df if m['e_ovac'] == '-']\n",
    "\n",
    "print(\"Materials in the csv file without E_Ovac: \", len(PREDICTION_DATA))\n",
    "print(\"Materials in the csv file with E_Ovac: \", len(TRAINING_DATA))\n",
    "print(\"Total materials in the csv file: \", len(df))\n"
   ]
  },
  {
   "cell_type": "code",
   "execution_count": 7,
   "id": "32308716",
   "metadata": {},
   "outputs": [
    {
     "name": "stdout",
     "output_type": "stream",
     "text": [
      "{'chem_formula': 'Ac2O3', 'e_ovac': '3.150'}\n"
     ]
    }
   ],
   "source": [
    "print(TRAINING_DATA[0])"
   ]
  },
  {
   "cell_type": "code",
   "execution_count": 8,
   "id": "eddf3e99",
   "metadata": {},
   "outputs": [
    {
     "name": "stdout",
     "output_type": "stream",
     "text": [
      "{'chem_formula': 'AcMgO3', 'e_ovac': '-'}\n"
     ]
    }
   ],
   "source": [
    "print(PREDICTION_DATA[0])"
   ]
  },
  {
   "attachments": {},
   "cell_type": "markdown",
   "id": "953a7174",
   "metadata": {},
   "source": [
    "### Create Model Training Data (Create train.csv, val.csv, test.csv)"
   ]
  },
  {
   "attachments": {},
   "cell_type": "markdown",
   "id": "67e9adc9",
   "metadata": {},
   "source": [
    "##### 1) Split the data into train, val and test sets as required by the Crabnet model."
   ]
  },
  {
   "cell_type": "code",
   "execution_count": 9,
   "id": "e7a0b6bf",
   "metadata": {},
   "outputs": [
    {
     "name": "stdout",
     "output_type": "stream",
     "text": [
      "2948 983 983\n",
      "[2948, 983, 983] 4914 4914\n",
      "[{'chem_formula': 'RbPtO3', 'e_ovac': '-0.383'}, {'chem_formula': 'ThAuO3', 'e_ovac': '-1.250'}, {'chem_formula': 'TePbO3', 'e_ovac': '0.913'}, {'chem_formula': 'AuScO3', 'e_ovac': '-3.267'}, {'chem_formula': 'WGeO3', 'e_ovac': '0.254'}]\n",
      "[{'chem_formula': 'AcUO3', 'e_ovac': '2.892'}, {'chem_formula': 'HoGaO3', 'e_ovac': '4.388'}, {'chem_formula': 'PdAuO3', 'e_ovac': '-1.681'}, {'chem_formula': 'InPrO3', 'e_ovac': '-4.900'}, {'chem_formula': 'AsZrO3', 'e_ovac': '-0.708'}]\n",
      "[{'chem_formula': 'RuNbO3', 'e_ovac': '3.675'}, {'chem_formula': 'SiHgO3', 'e_ovac': '-7.102'}, {'chem_formula': 'LuCrO3', 'e_ovac': '3.926'}, {'chem_formula': 'HfOsO3', 'e_ovac': '-2.885'}, {'chem_formula': 'RuDyO3', 'e_ovac': '-6.081'}]\n"
     ]
    }
   ],
   "source": [
    "## Split the data into train, test, val\n",
    "\n",
    "random.shuffle(TRAINING_DATA) # Shuffle the training data list on every run\n",
    "split_ratio = \"6:2:2\" # Set the ratio at with to split the data into train, test and validation sets from the training data list\n",
    "\n",
    "ratios = [round(int(r)/10 * len(TRAINING_DATA)) for r in split_ratio.split(':')] # Get the number of materials from the training data list according tp the ratio\n",
    "\n",
    "# Get X amount of data from the training dataset accoring to the set rratio\n",
    "train_set = TRAINING_DATA[:ratios[0]] \n",
    "test_set = TRAINING_DATA[ratios[0]:(ratios[0] + ratios[1])]\n",
    "val_set = TRAINING_DATA[(ratios[0] + ratios[1]):]\n",
    "\n",
    "print(len(train_set), len(test_set), len(val_set))\n",
    "print(ratios, sum(ratios), len(TRAINING_DATA))\n",
    "\n",
    "print(train_set[:5])\n",
    "print(test_set[:5])\n",
    "print(val_set[:5])\n",
    "# print(TRAINING_DATA[:5])"
   ]
  },
  {
   "attachments": {},
   "cell_type": "markdown",
   "id": "7856d0f7",
   "metadata": {},
   "source": [
    "##### 2) Write the data to csv files"
   ]
  },
  {
   "cell_type": "code",
   "execution_count": 10,
   "id": "2624214b",
   "metadata": {},
   "outputs": [],
   "source": [
    "## Save data to CSV\n",
    "\n",
    "fields = ['formula', 'target']\n",
    "trin_rows = [[data.get('chem_formula'), data.get('e_ovac')] for data in train_set]\n",
    "val_rows = [[data.get('chem_formula'), data.get('e_ovac')] for data in val_set]\n",
    "test_rows = [[data.get('chem_formula'), data.get('e_ovac')] for data in test_set]\n",
    "\n",
    "# print(rows)\n",
    "## Create train.csv with train_set data\n",
    "with open(os.path.join(DATA_DIR, 'train.csv'), 'w') as train_file:\n",
    "    csvwriter = csv.writer(train_file)\n",
    "    \n",
    "    csvwriter.writerow(fields)\n",
    "    csvwriter.writerows(trin_rows)\n",
    "\n",
    "## Create val.csv with train_set data\n",
    "with open(os.path.join(DATA_DIR, 'val.csv'), 'w') as val_file:\n",
    "    csvwriter = csv.writer(val_file)\n",
    "    \n",
    "    csvwriter.writerow(fields)\n",
    "    csvwriter.writerows(val_rows)\n",
    "\n",
    "## Create test.csv with train_set data\n",
    "with open(os.path.join(DATA_DIR, 'test.csv'), 'w') as test_file:\n",
    "    csvwriter = csv.writer(test_file)\n",
    "    \n",
    "    csvwriter.writerow(fields)\n",
    "    csvwriter.writerows(test_rows)\n",
    "    "
   ]
  },
  {
   "cell_type": "markdown",
   "id": "f603efa0",
   "metadata": {},
   "source": [
    "#### Train the crabnet model"
   ]
  },
  {
   "cell_type": "code",
   "execution_count": 11,
   "id": "673c0449",
   "metadata": {},
   "outputs": [
    {
     "name": "stdout",
     "output_type": "stream",
     "text": [
      "RUNNING COMMAND: python \"d:\\Projects and Research\\Python Projects\\Kevin-ML-perovskites-project\\CrabNet/train_crabnet.py\"\n",
      "\n",
      "Property \"example_materials_property\" selected for training\n",
      "\n",
      "Model architecture: out_dims, d_model, N, heads\n",
      "3, 512, 3, 4\n",
      "Running on compute device: cpu\n",
      "Model size: 11987206 parameters\n",
      "\n",
      "Generating EDM: 100%|█████████████████████████████████████████████████████| 3393/3393 [00:00<00:00, 72234.83formulae/s]\n",
      "loading data with up to 3 elements in the formula\n",
      "training with batchsize 256 (2**8.000)\n",
      "Generating EDM: 100%|███████████████████████████████████████████████████████| 727/727 [00:00<00:00, 55941.49formulae/s]\n",
      "loading data with up to 3 elements in the formula\n",
      "stepping every 14 training passes, cycling lr every 1 epochs\n",
      "checkin at 2 epochs to match lr scheduler\n",
      "Epoch: 0/40 --- train mae: 25.5 val mae: 25.7\n",
      "Epoch: 1/40 --- train mae: 26.5 val mae: 27.2\n",
      "Epoch: 3/40 --- train mae: 21 val mae: 22\n",
      "Epoch: 5/40 --- train mae: 15 val mae: 15.8\n",
      "Epoch: 7/40 --- train mae: 13.3 val mae: 14.6\n",
      "Epoch: 9/40 --- train mae: 13.2 val mae: 14.4\n",
      "Epoch: 11/40 --- train mae: 11.5 val mae: 13.2\n",
      "Epoch: 13/40 --- train mae: 10.9 val mae: 12.8\n",
      "Epoch 15 failed to improve.\n",
      "Discarded: 1/3 weight updates ♻🗑️\n",
      "Epoch: 15/40 --- train mae: 11.1 val mae: 13.1\n",
      "Epoch: 17/40 --- train mae: 10 val mae: 12.1\n",
      "Epoch: 19/40 --- train mae: 9.77 val mae: 12\n",
      "Epoch: 21/40 --- train mae: 9.25 val mae: 12.1\n",
      "Epoch: 23/40 --- train mae: 9.11 val mae: 11.7\n",
      "Epoch: 25/40 --- train mae: 8.98 val mae: 12\n",
      "Epoch: 27/40 --- train mae: 8.38 val mae: 11.3\n",
      "Epoch: 29/40 --- train mae: 8.08 val mae: 11.1\n",
      "Epoch 31 failed to improve.\n",
      "Discarded: 2/3 weight updates ♻🗑️\n",
      "Epoch: 31/40 --- train mae: 9.18 val mae: 12.2\n",
      "Epoch 33 failed to improve.\n",
      "Discarded: 3/3 weight updates ♻🗑️\n",
      "Epoch: 33/40 --- train mae: 7.96 val mae: 11.9\n",
      "Discarded: 3/3 weight updates, early-stopping now 🙅🛑\n",
      "Saving network (example_materials_property) to models/trained_models/example_materials_property.pth\n",
      "=====================================================\n",
      "              example_materials_property\n",
      "=====================================================\n",
      "calculating train mae\n",
      "loading data with up to 3 elements in the formula\n",
      "example_materials_property mae: 8.16\n",
      "-----------------------------------------------------\n",
      "calculating val mae\n",
      "loading data with up to 3 elements in the formula\n",
      "example_materials_property mae: 11.1\n",
      "-----------------------------------------------------\n",
      "calculating test mae\n",
      "loading data with up to 3 elements in the formula\n",
      "example_materials_property mae: 10.5\n",
      "=====================================================\n"
     ]
    }
   ],
   "source": [
    "\n",
    "train_script = os.path.join(ROOT_DIR, 'CrabNet/train_crabnet.py')\n",
    "os.chdir(os.path.join(ROOT_DIR, 'CrabNet'))\n",
    "\n",
    "command = f\"python \\\"{train_script}\\\"\"\n",
    "print(f\"RUNNING COMMAND: {command}\")\n",
    "\n",
    "command = \"python -m pip freeze\"\n",
    "# Run the script showing the output of stdout and stderr line by line\n",
    "proc = subprocess.Popen(\n",
    "    command, \n",
    "    shell=True, \n",
    "    stdout=subprocess.PIPE, \n",
    "    stderr=subprocess.PIPE,\n",
    ")\n",
    "\n",
    "output, errors = proc.communicate()\n",
    "print(f\"OUTPUT >> {output}\")\n",
    "print(f\"ERRORS >> {errors}\")\n",
    "\n"
   ]
  },
  {
   "cell_type": "code",
   "execution_count": null,
   "id": "ecf814d6",
   "metadata": {},
   "outputs": [],
   "source": []
  },
  {
   "cell_type": "code",
   "execution_count": null,
   "id": "34bfb58d",
   "metadata": {},
   "outputs": [],
   "source": []
  },
  {
   "cell_type": "code",
   "execution_count": null,
   "id": "2509d6a3",
   "metadata": {},
   "outputs": [],
   "source": []
  },
  {
   "cell_type": "code",
   "execution_count": null,
   "id": "2791cbf5",
   "metadata": {},
   "outputs": [],
   "source": []
  },
  {
   "cell_type": "code",
   "execution_count": null,
   "id": "77a3dbda",
   "metadata": {},
   "outputs": [],
   "source": []
  }
 ],
 "metadata": {
  "kernelspec": {
   "display_name": "venv",
   "language": "python",
   "name": "python3"
  },
  "language_info": {
   "codemirror_mode": {
    "name": "ipython",
    "version": 3
   },
   "file_extension": ".py",
   "mimetype": "text/x-python",
   "name": "python",
   "nbconvert_exporter": "python",
   "pygments_lexer": "ipython3",
   "version": "3.10.7"
  },
  "vscode": {
   "interpreter": {
    "hash": "8cd3954bda6c8bab96e441d49a35ee446df94a8b872e51551d00e66ed5734dfc"
   }
  }
 },
 "nbformat": 4,
 "nbformat_minor": 5
}
