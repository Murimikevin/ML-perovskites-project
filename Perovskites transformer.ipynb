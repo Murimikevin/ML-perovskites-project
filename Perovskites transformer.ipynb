{
 "cells": [
  {
   "cell_type": "code",
   "execution_count": null,
   "id": "aa846519",
   "metadata": {},
   "outputs": [],
   "source": [
    "!pip install requests\n",
    "!pip install pandas\n",
    "!pip install mp-api\n",
    "!pip install requests-html"
   ]
  },
  {
   "cell_type": "code",
   "execution_count": 12,
   "id": "78291c88",
   "metadata": {},
   "outputs": [],
   "source": [
    "import csv\n",
    "import os\n",
    "import pandas as pd\n",
    "#from ast import literal_eval\n",
    "import math\n",
    "import random\n",
    "#import matplotlib.pyplot as plt\n",
    "import seaborn as sb\n",
    "import subprocess"
   ]
  },
  {
   "cell_type": "code",
   "execution_count": 13,
   "id": "88a33cfa",
   "metadata": {},
   "outputs": [
    {
     "name": "stdout",
     "output_type": "stream",
     "text": [
      "/home/murimikelvin/ML-perovskites-project/Vacancyenergydata.csv\n"
     ]
    }
   ],
   "source": [
    "ROOT_DIR = os.path.abspath(\"\")\n",
    "# DATA_DIR = os.path.join(ROOT_DIR, 'CrabNet/data/materials_data')\n",
    "DATA_DIR = os.path.join(ROOT_DIR, 'CrabNet/data/materials_data')\n",
    "TRAINING_CSV_FILE = os.path.join(ROOT_DIR, \"Vacancyenergydata.csv\")\n",
    "API_KEY = \"3XX6x9Nd3cKWf9Q4wpaio64CBHFp2uDq\"\n",
    "TRAINING_DATA = []\n",
    "\n",
    "print(TRAINING_CSV_FILE)"
   ]
  },
  {
   "cell_type": "markdown",
   "id": "602bae37",
   "metadata": {},
   "source": [
    "## Step1:Collecting data."
   ]
  },
  {
   "cell_type": "markdown",
   "id": "8d3d591b",
   "metadata": {},
   "source": [
    "#### Load Training data."
   ]
  },
  {
   "cell_type": "code",
   "execution_count": 14,
   "id": "d7b7cda7",
   "metadata": {},
   "outputs": [
    {
     "name": "stdout",
     "output_type": "stream",
     "text": [
      "Index(['Chemical formula', 'A', 'B', 'In literature', 'Valence A', 'Valence B',\n",
      "       'Radius A [ang]', 'Radius B [ang]', 'Lowest distortion',\n",
      "       'Formation energy [eV/atom]', 'Stability [eV/atom]',\n",
      "       'Magnetic moment [mu_B]', 'Volume per atom [A^3/atom]', 'Band gap [eV]',\n",
      "       'a [ang]', 'b [ang]', 'c [ang]', 'alpha [deg]', 'beta [deg]',\n",
      "       'gamma [deg]', 'Vacancy energy [eV/O atom]'],\n",
      "      dtype='object')\n"
     ]
    },
    {
     "data": {
      "text/plain": [
       "[{'chem_formula': 'Ac2O3', 'e_ovac': '3.150'},\n",
       " {'chem_formula': 'AcAgO3', 'e_ovac': '0.817'},\n",
       " {'chem_formula': 'AcAlO3', 'e_ovac': '6.695'},\n",
       " {'chem_formula': 'AcAsO3', 'e_ovac': '3.634'},\n",
       " {'chem_formula': 'AcAuO3', 'e_ovac': '0.807'},\n",
       " {'chem_formula': 'AcBO3', 'e_ovac': '4.163'},\n",
       " {'chem_formula': 'AcBaO3', 'e_ovac': '-1.771'},\n",
       " {'chem_formula': 'AcBeO3', 'e_ovac': '-0.080'},\n",
       " {'chem_formula': 'AcBiO3', 'e_ovac': '2.653'},\n",
       " {'chem_formula': 'AcCaO3', 'e_ovac': '-1.025'}]"
      ]
     },
     "execution_count": 14,
     "metadata": {},
     "output_type": "execute_result"
    }
   ],
   "source": [
    "df = pd.read_csv(TRAINING_CSV_FILE)\n",
    "print(df.columns)\n",
    "df = df[['Chemical formula', 'Vacancy energy [eV/O atom]']]\n",
    "new_names = {\n",
    "    'Chemical formula': 'chem_formula',\n",
    "    'Vacancy energy [eV/O atom]': 'e_ovac'\n",
    "}\n",
    "df.rename(columns=new_names, inplace=True)\n",
    "df = df.to_dict(\"records\")\n",
    "df[:10]\n"
   ]
  },
  {
   "cell_type": "markdown",
   "id": "dfa82f14",
   "metadata": {},
   "source": [
    "## Step 2: Data cleaning"
   ]
  },
  {
   "cell_type": "markdown",
   "id": "762cf243",
   "metadata": {},
   "source": [
    "#### Cleaning training data"
   ]
  },
  {
   "cell_type": "code",
   "execution_count": 15,
   "id": "ee2dd79d",
   "metadata": {},
   "outputs": [
    {
     "name": "stdout",
     "output_type": "stream",
     "text": [
      "Materials in the csv file without E_Ovac:  415\n",
      "Materials in the csv file with E_Ovac:  4914\n",
      "Total materials in the csv file:  5329\n"
     ]
    }
   ],
   "source": [
    "# Splitting the data into training and predicting and saving this data.\n",
    "TRAINING_DATA = [m for m in df if m['e_ovac'] != '-']\n",
    "PREDICTION_DATA = [m for m in df if m['e_ovac'] == '-']\n",
    "\n",
    "\n",
    "\n",
    "print(\"Materials in the csv file without E_Ovac: \", len(PREDICTION_DATA))\n",
    "print(\"Materials in the csv file with E_Ovac: \", len(TRAINING_DATA))\n",
    "print(\"Total materials in the csv file: \", len(df))\n"
   ]
  },
  {
   "cell_type": "code",
   "execution_count": 16,
   "id": "32308716",
   "metadata": {},
   "outputs": [
    {
     "name": "stdout",
     "output_type": "stream",
     "text": [
      "{'chem_formula': 'Ac2O3', 'e_ovac': '3.150'}\n"
     ]
    }
   ],
   "source": [
    "print(TRAINING_DATA[0])"
   ]
  },
  {
   "cell_type": "code",
   "execution_count": 17,
   "id": "eddf3e99",
   "metadata": {},
   "outputs": [
    {
     "name": "stdout",
     "output_type": "stream",
     "text": [
      "{'chem_formula': 'AcMgO3', 'e_ovac': '-'}\n"
     ]
    }
   ],
   "source": [
    "print(PREDICTION_DATA[0])"
   ]
  },
  {
   "cell_type": "code",
   "execution_count": 18,
   "id": "7ce94746",
   "metadata": {},
   "outputs": [
    {
     "name": "stdout",
     "output_type": "stream",
     "text": [
      "-0.006\n",
      "6.962\n"
     ]
    }
   ],
   "source": [
    "print(min([x.get('e_ovac') for x in TRAINING_DATA]))\n",
    "print(max([x.get('e_ovac') for x in TRAINING_DATA]))"
   ]
  },
  {
   "cell_type": "markdown",
   "id": "953a7174",
   "metadata": {},
   "source": [
    "#### Create Model Training Data (Create train.csv, val.csv, test.csv)"
   ]
  },
  {
   "cell_type": "code",
   "execution_count": 19,
   "id": "e7a0b6bf",
   "metadata": {},
   "outputs": [
    {
     "name": "stdout",
     "output_type": "stream",
     "text": [
      "2948 983 983\n",
      "[2948, 983, 983] 4914 4914\n",
      "[{'chem_formula': 'TbGaO3', 'e_ovac': '4.521'}, {'chem_formula': 'LuBiO3', 'e_ovac': '0.107'}, {'chem_formula': 'ReTcO3', 'e_ovac': '-2.294'}, {'chem_formula': 'SiZrO3', 'e_ovac': '3.899'}, {'chem_formula': 'YbPtO3', 'e_ovac': '-0.622'}]\n",
      "[{'chem_formula': 'ZnMnO3', 'e_ovac': '-0.703'}, {'chem_formula': 'DyCdO3', 'e_ovac': '-1.035'}, {'chem_formula': 'PmTcO3', 'e_ovac': '1.999'}, {'chem_formula': 'UTmO3', 'e_ovac': '3.505'}, {'chem_formula': 'MnTlO3', 'e_ovac': '-2.514'}]\n",
      "[{'chem_formula': 'GeBaO3', 'e_ovac': '-7.410'}, {'chem_formula': 'OsNiO3', 'e_ovac': '-4.568'}, {'chem_formula': 'NbSbO3', 'e_ovac': '0.340'}, {'chem_formula': 'NbOsO3', 'e_ovac': '-1.774'}, {'chem_formula': 'GaSrO3', 'e_ovac': '-6.999'}]\n"
     ]
    }
   ],
   "source": [
    "## Split the data into train, test, val\n",
    "\n",
    "random.shuffle(TRAINING_DATA) # Shuffle the training data list on every run\n",
    "split_ratio = \"6:2:2\" # Set the ratio at with to split the data into train, test and validation sets from the training data list\n",
    "\n",
    "ratios = [round(int(r)/10 * len(TRAINING_DATA)) for r in split_ratio.split(':')] # Get the number of materials from the training data list according tp the ratio\n",
    "\n",
    "# Get X amount of data from the training dataset accoring to the set rratio\n",
    "train_set = TRAINING_DATA[:ratios[0]] \n",
    "test_set = TRAINING_DATA[ratios[0]:(ratios[0] + ratios[1])]\n",
    "val_set = TRAINING_DATA[(ratios[0] + ratios[1]):]\n",
    "\n",
    "print(len(train_set), len(test_set), len(val_set))\n",
    "print(ratios, sum(ratios), len(TRAINING_DATA))\n",
    "\n",
    "print(train_set[:5])\n",
    "print(test_set[:5])\n",
    "print(val_set[:5])"
   ]
  },
  {
   "cell_type": "code",
   "execution_count": 20,
   "id": "2624214b",
   "metadata": {},
   "outputs": [],
   "source": [
    "## Save data to CSV\n",
    "\n",
    "fields = ['formula', 'target']\n",
    "train_rows = [[data.get('chem_formula'), data.get('e_ovac')] for data in train_set]\n",
    "val_rows = [[data.get('chem_formula'), data.get('e_ovac')] for data in val_set]\n",
    "test_rows = [[data.get('chem_formula'), data.get('e_ovac')] for data in test_set]\n",
    "\n",
    "# print(rows)\n",
    "## Create train.csv with train_set data\n",
    "with open(os.path.join(DATA_DIR, 'train.csv'), 'w') as train_file:\n",
    "    csvwriter = csv.writer(train_file)\n",
    "    \n",
    "    csvwriter.writerow(fields)\n",
    "    csvwriter.writerows(train_rows)\n",
    "\n",
    "## Create val.csv with train_set data\n",
    "with open(os.path.join(DATA_DIR, 'val.csv'), 'w') as val_file:\n",
    "    csvwriter = csv.writer(val_file)\n",
    "    \n",
    "    csvwriter.writerow(fields)\n",
    "    csvwriter.writerows(val_rows)\n",
    "\n",
    "## Create test.csv with train_set data\n",
    "with open(os.path.join(DATA_DIR, 'test.csv'), 'w') as test_file:\n",
    "    csvwriter = csv.writer(test_file)\n",
    "    \n",
    "    csvwriter.writerow(fields)\n",
    "    csvwriter.writerows(test_rows)\n",
    "    "
   ]
  },
  {
   "cell_type": "markdown",
   "id": "f603efa0",
   "metadata": {},
   "source": [
    "#### Train the crabnet model"
   ]
  },
  {
   "cell_type": "code",
   "execution_count": 23,
   "id": "9005f81a",
   "metadata": {},
   "outputs": [
    {
     "name": "stdout",
     "output_type": "stream",
     "text": [
      "Property \"example_materials_property\" selected for training\n",
      "\n",
      "Model architecture: out_dims, d_model, N, heads\n",
      "3, 512, 3, 4\n",
      "Running on compute device: cpu\n",
      "Model size: 11987206 parameters\n",
      "\n",
      "loading data with up to 3 elements in the formula\n",
      "training with batchsize 256 (2**8.000)\n",
      "loading data with up to 3 elements in the formula\n",
      "stepping every 12 training passes, cycling lr every 1 epochs\n",
      "checkin at 2 epochs to match lr scheduler\n",
      "Epoch: 0/40 --- train mae: 3.31 val mae: 3.13\n",
      "Epoch: 1/40 --- train mae: 3.3 val mae: 3.12\n",
      "Epoch: 3/40 --- train mae: 3.34 val mae: 3.17\n",
      "Epoch: 5/40 --- train mae: 3.11 val mae: 2.95\n",
      "Epoch: 7/40 --- train mae: 3.08 val mae: 2.93\n",
      "Epoch: 9/40 --- train mae: 3.05 val mae: 2.95\n",
      "Epoch: 11/40 --- train mae: 2.98 val mae: 2.88\n",
      "Epoch: 13/40 --- train mae: 2.95 val mae: 2.85\n",
      "Epoch: 15/40 --- train mae: 2.91 val mae: 2.82\n",
      "Epoch: 17/40 --- train mae: 2.9 val mae: 2.82\n",
      "Epoch: 19/40 --- train mae: 2.86 val mae: 2.81\n",
      "Epoch: 21/40 --- train mae: 2.84 val mae: 2.83\n",
      "Epoch: 23/40 --- train mae: 2.84 val mae: 2.83\n",
      "Epoch: 25/40 --- train mae: 2.81 val mae: 2.82\n",
      "Epoch 27 failed to improve.\n",
      "Discarded: 1/3 weight updates ♻🗑️\n",
      "Epoch: 27/40 --- train mae: 2.77 val mae: 2.9\n",
      "Epoch 29 failed to improve.\n",
      "Discarded: 2/3 weight updates ♻🗑️\n",
      "Epoch: 29/40 --- train mae: 2.74 val mae: 2.89\n",
      "Epoch 31 failed to improve.\n",
      "Discarded: 3/3 weight updates ♻🗑️\n",
      "Epoch: 31/40 --- train mae: 2.74 val mae: 2.92\n",
      "Discarded: 3/3 weight updates, early-stopping now 🙅🛑\n",
      "Saving network (example_materials_property) to models/trained_models/example_materials_property.pth\n",
      "=====================================================\n",
      "              example_materials_property             \n",
      "=====================================================\n",
      "calculating train mae\n",
      "loading data with up to 3 elements in the formula\n",
      "example_materials_property mae: 2.82\n",
      "-----------------------------------------------------\n",
      "calculating val mae\n",
      "loading data with up to 3 elements in the formula\n",
      "example_materials_property mae: 2.81\n",
      "-----------------------------------------------------\n",
      "calculating test mae\n",
      "loading data with up to 3 elements in the formula\n",
      "example_materials_property mae: 2.84\n",
      "=====================================================\n"
     ]
    }
   ],
   "source": [
    "\n",
    "\n",
    "\n",
    "os.chdir ('CrabNet')\n",
    "command = f\"python train_crabnet.py\"\n",
    "\n",
    "process = subprocess.Popen(command, shell=True, stdout=subprocess.PIPE, stderr=subprocess.PIPE)\n",
    "for line in process.stdout:\n",
    "    print(line.decode(\"utf-8\"), end='')\n"
   ]
  },
  {
   "cell_type": "markdown",
   "id": "42c03531",
   "metadata": {},
   "source": [
    "#### Analyzing training performance"
   ]
  },
  {
   "cell_type": "code",
   "execution_count": null,
   "id": "6950de73",
   "metadata": {},
   "outputs": [],
   "source": [
    "\n",
    "csv_df = pd.read_csv('model_predictions/example_materials_property_train_output.csv')\n",
    "\n",
    "ax = sb.regplot(x='target', y='pred-0', data=csv_df)\n",
    "# ax = sb.scatterplot(x=\"test\", y=\"result\", data=df, palette=color_dict, legend='full')\n",
    "ax.set_title(f\"A regression scatter plot showing the relationship between the predicted and actual oxygen vacancy values after training. ({len(csv_df)} points)\")\n",
    "ax.set_xlabel(\"Experimental Eovac\")\n",
    "ax.set_ylabel(\"Predicted Eovac\")\n"
   ]
  },
  {
   "cell_type": "markdown",
   "id": "574dae3b",
   "metadata": {},
   "source": [
    "#### Create Prediction Data (Create train.csv, val.csv, test.csv)"
   ]
  },
  {
   "cell_type": "code",
   "execution_count": null,
   "id": "34bfb58d",
   "metadata": {},
   "outputs": [],
   "source": [
    "## Split the data into train, test, val\n",
    "\n",
    "random.shuffle(PREDICTION_DATA) # Shuffle the training data list on every run\n",
    "split_ratio = \"6:2:2\" # Set the ratio at with to split the data into train, test and validation sets from the training data list\n",
    "\n",
    "ratios = [round(int(r)/10 * len(PREDICTION_DATA)) for r in split_ratio.split(':')] # Get the number of materials from the training data list according tp the ratio\n",
    "\n",
    "# Get X amount of data from the training dataset accoring to the set rratio\n",
    "train_set = PREDICTION_DATA[:ratios[0]] \n",
    "test_set = PREDICTION_DATA[ratios[0]:(ratios[0] + ratios[1])]\n",
    "val_set = PREDICTION_DATA[(ratios[0] + ratios[1]):]\n",
    "\n",
    "print(len(train_set), len(test_set), len(val_set))\n",
    "print(ratios, sum(ratios), len(PREDICTION_DATA))\n",
    "\n",
    "print(train_set[:5])\n",
    "print(test_set[:5])\n",
    "print(val_set[:5])"
   ]
  },
  {
   "cell_type": "code",
   "execution_count": null,
   "id": "2509d6a3",
   "metadata": {},
   "outputs": [],
   "source": [
    "## Save data to CSV\n",
    "\n",
    "fields = ['formula', 'target']\n",
    "train_rows = [[data.get('chem_formula'), random.randint(-1, 1)] for data in train_set]\n",
    "val_rows = [[data.get('chem_formula'), random.randint(-1, 1)] for data in val_set]\n",
    "test_rows = [[data.get('chem_formula'), random.randint(-1, 1)] for data in test_set]\n",
    "\n",
    "# print(rows)\n",
    "## Create train.csv with train_set data\n",
    "with open(os.path.join(DATA_DIR, 'train.csv'), 'w') as train_file:\n",
    "    csvwriter = csv.writer(train_file)\n",
    "    \n",
    "    csvwriter.writerow(fields)\n",
    "    csvwriter.writerows(train_rows)\n",
    "\n",
    "## Create val.csv with train_set data\n",
    "with open(os.path.join(DATA_DIR, 'val.csv'), 'w') as val_file:\n",
    "    csvwriter = csv.writer(val_file)\n",
    "    \n",
    "    csvwriter.writerow(fields)\n",
    "    csvwriter.writerows(val_rows)\n",
    "\n",
    "## Create test.csv with train_set data\n",
    "with open(os.path.join(DATA_DIR, 'test.csv'), 'w') as test_file:\n",
    "    csvwriter = csv.writer(test_file)\n",
    "    \n",
    "    csvwriter.writerow(fields)\n",
    "    csvwriter.writerows(test_rows)\n",
    "    "
   ]
  },
  {
   "cell_type": "code",
   "execution_count": null,
   "id": "2791cbf5",
   "metadata": {},
   "outputs": [],
   "source": [
    "print(min([x.get('e_ovac') for x in TRAINING_DATA]))"
   ]
  },
  {
   "cell_type": "markdown",
   "id": "2c4abb9f",
   "metadata": {},
   "source": [
    "#### Predicting EOvac values "
   ]
  },
  {
   "cell_type": "code",
   "execution_count": null,
   "id": "cbb40b19",
   "metadata": {},
   "outputs": [],
   "source": [
    "command = f\"python predict_crabnet.py.py\"\n",
    "\n",
    "process = subprocess.Popen(command, shell=True, stdout=subprocess.PIPE, stderr=subprocess.PIPE)\n",
    "for line in process.stdout:\n",
    "    print(line.decode(\"utf-8\"), end='')"
   ]
  },
  {
   "cell_type": "markdown",
   "id": "e301a673",
   "metadata": {},
   "source": [
    "#### Analyze predicted values"
   ]
  },
  {
   "cell_type": "code",
   "execution_count": null,
   "id": "3b57e51d",
   "metadata": {},
   "outputs": [],
   "source": [
    "## Read the predictions from the csv files\n",
    "\n",
    "PRED_DIR = os.path.join(ROOT_DIR, \"CrabNet/model_predictions/\")\n",
    "print(PRED_DIR)\n",
    "csv_files = os.listdir(PRED_DIR)\n",
    "\n",
    "predicted_data = []\n",
    "for _file in csv_files:\n",
    "    with open(os.path.join(PRED_DIR, _file)) as train_file:\n",
    "        csv_reader = csv.reader(train_file)\n",
    "        \n",
    "        row_count = 0\n",
    "        for row in csv_reader:\n",
    "            if row_count != 0:\n",
    "#                 print(row)\n",
    "                predicted_data.append({\n",
    "                    \"structure\": row[1],\n",
    "                    \"predicted_e_ovac\": row[3]\n",
    "                })\n",
    "            \n",
    "            row_count += 1\n",
    "\n",
    "            \n",
    "print(predicted_data[:5])\n",
    "print(len(predicted_data))\n",
    " "
   ]
  },
  {
   "cell_type": "code",
   "execution_count": null,
   "id": "547bafb2",
   "metadata": {},
   "outputs": [],
   "source": [
    "print(min([x.get('predicted_e_ovac') for x in predicted_data]))\n",
    "print(max([x.get('predicted_e_ovac') for x in predicted_data]))"
   ]
  },
  {
   "cell_type": "code",
   "execution_count": null,
   "id": "35bd74ac",
   "metadata": {},
   "outputs": [],
   "source": []
  }
 ],
 "metadata": {
  "kernelspec": {
   "display_name": "Python 3 (ipykernel)",
   "language": "python",
   "name": "python3"
  },
  "language_info": {
   "codemirror_mode": {
    "name": "ipython",
    "version": 3
   },
   "file_extension": ".py",
   "mimetype": "text/x-python",
   "name": "python",
   "nbconvert_exporter": "python",
   "pygments_lexer": "ipython3",
   "version": "3.10.6"
  }
 },
 "nbformat": 4,
 "nbformat_minor": 5
}
