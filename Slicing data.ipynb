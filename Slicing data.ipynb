{
 "cells": [
  {
   "cell_type": "markdown",
   "id": "da917589",
   "metadata": {},
   "source": [
    "#### Understanding slicing"
   ]
  },
  {
   "cell_type": "code",
   "execution_count": null,
   "id": "9408f3cd",
   "metadata": {},
   "outputs": [],
   "source": [
    "lis = list(range(1, 11))\n",
    "\n",
    "split_ratio = \"6:2:2\" # Set the ratio at with to split the data into train, test and validation sets from the training data list\n",
    "\n",
    "ratios = [round(int(r)/10 * len(lis)) for r in split_ratio.split(':')] \n",
    "\n",
    "print(\"lis = \", lis)\n",
    "print(\"ratios = \", ratios)\n",
    "\n",
    "train_set = lis[:ratios[0]] \n",
    "test_set = lis[ratios[0]:(ratios[0] + ratios[1])]\n",
    "val_set = lis[(ratios[0] + ratios[1]):(ratios[0] + ratios[1] + ratios[2])]\n",
    "\n",
    "print(train_set)\n",
    "print(test_set)\n",
    "print(val_set)"
   ]
  }
 ],
 "metadata": {
  "kernelspec": {
   "display_name": "Python 3 (ipykernel)",
   "language": "python",
   "name": "python3"
  },
  "language_info": {
   "codemirror_mode": {
    "name": "ipython",
    "version": 3
   },
   "file_extension": ".py",
   "mimetype": "text/x-python",
   "name": "python",
   "nbconvert_exporter": "python",
   "pygments_lexer": "ipython3",
   "version": "3.10.6"
  }
 },
 "nbformat": 4,
 "nbformat_minor": 5
}
